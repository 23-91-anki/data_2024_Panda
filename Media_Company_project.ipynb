{
 "cells": [
  {
   "cell_type": "markdown",
   "metadata": {
    "id": "7oYYgd7u0hgg"
   },
   "source": [
    "## Media Company Case Study"
   ]
  },
  {
   "cell_type": "markdown",
   "metadata": {
    "id": "6jsEwO7g0hgm"
   },
   "source": [
    "Problem Statement: A digital media company (similar to Voot, Hotstar, Netflix, etc.) had launched a show. Initially, the show got a good response, but then witnessed a decline in viewership. The company wants to figure out what went wrong."
   ]
  },
  {
   "cell_type": "code",
   "execution_count": 60,
   "metadata": {
    "id": "Ncaa1zqA0hgn",
    "tags": []
   },
   "outputs": [],
   "source": [
    "# Importing all required packages\n",
    "import numpy as np\n",
    "import pandas as pd\n",
    "import matplotlib.pyplot as plt\n",
    "import seaborn as sns\n",
    "%matplotlib inline"
   ]
  },
  {
   "cell_type": "code",
   "execution_count": 61,
   "metadata": {
    "colab": {
     "base_uri": "https://localhost:8080/",
     "height": 73,
     "resources": {
      "http://localhost:8080/nbextensions/google.colab/files.js": {
       "data": "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",
       "headers": [
        [
         "content-type",
         "application/javascript"
        ]
       ],
       "ok": true,
       "status": 200,
       "status_text": ""
      }
     }
    },
    "id": "dEGiahMm0hgp",
    "outputId": "618277da-95ee-43b1-ebbd-36702c5427d2"
   },
   "outputs": [],
   "source": [
    "#Importing dataset\n",
    "#from google.colab import files\n",
    "#uploaded = files.upload()\n",
    "\n",
    "#import io\n",
    "#media = pd.read_csv(io.BytesIO(uploaded['mediacompany.csv']))\n",
    "media = pd.read_csv('mediacompany.csv')\n",
    "media = media.drop('Unnamed: 7',axis = 1)"
   ]
  },
  {
   "cell_type": "code",
   "execution_count": 62,
   "metadata": {
    "colab": {
     "base_uri": "https://localhost:8080/",
     "height": 206
    },
    "id": "aazGROTc0hgp",
    "outputId": "6b98fe7d-4c21-4217-a88a-69e999cb46e4"
   },
   "outputs": [
    {
     "data": {
      "text/html": [
       "<div>\n",
       "<style scoped>\n",
       "    .dataframe tbody tr th:only-of-type {\n",
       "        vertical-align: middle;\n",
       "    }\n",
       "\n",
       "    .dataframe tbody tr th {\n",
       "        vertical-align: top;\n",
       "    }\n",
       "\n",
       "    .dataframe thead th {\n",
       "        text-align: right;\n",
       "    }\n",
       "</style>\n",
       "<table border=\"1\" class=\"dataframe\">\n",
       "  <thead>\n",
       "    <tr style=\"text-align: right;\">\n",
       "      <th></th>\n",
       "      <th>Date</th>\n",
       "      <th>Views_show</th>\n",
       "      <th>Visitors</th>\n",
       "      <th>Views_platform</th>\n",
       "      <th>Ad_impression</th>\n",
       "      <th>Cricket_match_india</th>\n",
       "      <th>Character_A</th>\n",
       "    </tr>\n",
       "  </thead>\n",
       "  <tbody>\n",
       "    <tr>\n",
       "      <th>0</th>\n",
       "      <td>3/1/2017</td>\n",
       "      <td>183738</td>\n",
       "      <td>1260228</td>\n",
       "      <td>1706478</td>\n",
       "      <td>1060860448</td>\n",
       "      <td>0</td>\n",
       "      <td>0</td>\n",
       "    </tr>\n",
       "    <tr>\n",
       "      <th>1</th>\n",
       "      <td>3/2/2017</td>\n",
       "      <td>193763</td>\n",
       "      <td>1270561</td>\n",
       "      <td>1690727</td>\n",
       "      <td>1031846645</td>\n",
       "      <td>0</td>\n",
       "      <td>0</td>\n",
       "    </tr>\n",
       "    <tr>\n",
       "      <th>2</th>\n",
       "      <td>3/3/2017</td>\n",
       "      <td>210479</td>\n",
       "      <td>1248183</td>\n",
       "      <td>1726157</td>\n",
       "      <td>1010867575</td>\n",
       "      <td>0</td>\n",
       "      <td>0</td>\n",
       "    </tr>\n",
       "    <tr>\n",
       "      <th>3</th>\n",
       "      <td>3/4/2017</td>\n",
       "      <td>240061</td>\n",
       "      <td>1492913</td>\n",
       "      <td>1855353</td>\n",
       "      <td>1079194579</td>\n",
       "      <td>1</td>\n",
       "      <td>0</td>\n",
       "    </tr>\n",
       "    <tr>\n",
       "      <th>4</th>\n",
       "      <td>3/5/2017</td>\n",
       "      <td>446314</td>\n",
       "      <td>1594712</td>\n",
       "      <td>2041418</td>\n",
       "      <td>1357736987</td>\n",
       "      <td>0</td>\n",
       "      <td>0</td>\n",
       "    </tr>\n",
       "  </tbody>\n",
       "</table>\n",
       "</div>"
      ],
      "text/plain": [
       "       Date  Views_show  Visitors  Views_platform  Ad_impression  \\\n",
       "0  3/1/2017      183738   1260228         1706478     1060860448   \n",
       "1  3/2/2017      193763   1270561         1690727     1031846645   \n",
       "2  3/3/2017      210479   1248183         1726157     1010867575   \n",
       "3  3/4/2017      240061   1492913         1855353     1079194579   \n",
       "4  3/5/2017      446314   1594712         2041418     1357736987   \n",
       "\n",
       "   Cricket_match_india  Character_A  \n",
       "0                    0            0  \n",
       "1                    0            0  \n",
       "2                    0            0  \n",
       "3                    1            0  \n",
       "4                    0            0  "
      ]
     },
     "execution_count": 62,
     "metadata": {},
     "output_type": "execute_result"
    }
   ],
   "source": [
    "#Let's explore the top 5 rows\n",
    "media.head()"
   ]
  },
  {
   "cell_type": "code",
   "execution_count": 63,
   "metadata": {
    "id": "SzIS9-Mz0hgq",
    "tags": []
   },
   "outputs": [],
   "source": [
    "# Converting date to Pandas datetime format\n",
    "media['Date'] = pd.to_datetime(media['Date'])"
   ]
  },
  {
   "cell_type": "code",
   "execution_count": 64,
   "metadata": {
    "colab": {
     "base_uri": "https://localhost:8080/",
     "height": 206
    },
    "id": "PJKITdG20hgr",
    "outputId": "5101454b-f162-4898-d07b-6494010a0e75"
   },
   "outputs": [
    {
     "data": {
      "text/html": [
       "<div>\n",
       "<style scoped>\n",
       "    .dataframe tbody tr th:only-of-type {\n",
       "        vertical-align: middle;\n",
       "    }\n",
       "\n",
       "    .dataframe tbody tr th {\n",
       "        vertical-align: top;\n",
       "    }\n",
       "\n",
       "    .dataframe thead th {\n",
       "        text-align: right;\n",
       "    }\n",
       "</style>\n",
       "<table border=\"1\" class=\"dataframe\">\n",
       "  <thead>\n",
       "    <tr style=\"text-align: right;\">\n",
       "      <th></th>\n",
       "      <th>Date</th>\n",
       "      <th>Views_show</th>\n",
       "      <th>Visitors</th>\n",
       "      <th>Views_platform</th>\n",
       "      <th>Ad_impression</th>\n",
       "      <th>Cricket_match_india</th>\n",
       "      <th>Character_A</th>\n",
       "    </tr>\n",
       "  </thead>\n",
       "  <tbody>\n",
       "    <tr>\n",
       "      <th>0</th>\n",
       "      <td>2017-03-01</td>\n",
       "      <td>183738</td>\n",
       "      <td>1260228</td>\n",
       "      <td>1706478</td>\n",
       "      <td>1060860448</td>\n",
       "      <td>0</td>\n",
       "      <td>0</td>\n",
       "    </tr>\n",
       "    <tr>\n",
       "      <th>1</th>\n",
       "      <td>2017-03-02</td>\n",
       "      <td>193763</td>\n",
       "      <td>1270561</td>\n",
       "      <td>1690727</td>\n",
       "      <td>1031846645</td>\n",
       "      <td>0</td>\n",
       "      <td>0</td>\n",
       "    </tr>\n",
       "    <tr>\n",
       "      <th>2</th>\n",
       "      <td>2017-03-03</td>\n",
       "      <td>210479</td>\n",
       "      <td>1248183</td>\n",
       "      <td>1726157</td>\n",
       "      <td>1010867575</td>\n",
       "      <td>0</td>\n",
       "      <td>0</td>\n",
       "    </tr>\n",
       "    <tr>\n",
       "      <th>3</th>\n",
       "      <td>2017-03-04</td>\n",
       "      <td>240061</td>\n",
       "      <td>1492913</td>\n",
       "      <td>1855353</td>\n",
       "      <td>1079194579</td>\n",
       "      <td>1</td>\n",
       "      <td>0</td>\n",
       "    </tr>\n",
       "    <tr>\n",
       "      <th>4</th>\n",
       "      <td>2017-03-05</td>\n",
       "      <td>446314</td>\n",
       "      <td>1594712</td>\n",
       "      <td>2041418</td>\n",
       "      <td>1357736987</td>\n",
       "      <td>0</td>\n",
       "      <td>0</td>\n",
       "    </tr>\n",
       "  </tbody>\n",
       "</table>\n",
       "</div>"
      ],
      "text/plain": [
       "        Date  Views_show  Visitors  Views_platform  Ad_impression  \\\n",
       "0 2017-03-01      183738   1260228         1706478     1060860448   \n",
       "1 2017-03-02      193763   1270561         1690727     1031846645   \n",
       "2 2017-03-03      210479   1248183         1726157     1010867575   \n",
       "3 2017-03-04      240061   1492913         1855353     1079194579   \n",
       "4 2017-03-05      446314   1594712         2041418     1357736987   \n",
       "\n",
       "   Cricket_match_india  Character_A  \n",
       "0                    0            0  \n",
       "1                    0            0  \n",
       "2                    0            0  \n",
       "3                    1            0  \n",
       "4                    0            0  "
      ]
     },
     "execution_count": 64,
     "metadata": {},
     "output_type": "execute_result"
    }
   ],
   "source": [
    "media.head()"
   ]
  },
  {
   "cell_type": "code",
   "execution_count": 65,
   "metadata": {
    "colab": {
     "base_uri": "https://localhost:8080/"
    },
    "id": "el0s0jFK0hgr",
    "outputId": "3541792e-aa90-485b-c527-58765028ca5e"
   },
   "outputs": [
    {
     "name": "stdout",
     "output_type": "stream",
     "text": [
      "<class 'pandas._libs.tslibs.timestamps.Timestamp'>\n",
      "<class 'pandas._libs.tslibs.timestamps.Timestamp'>\n"
     ]
    }
   ],
   "source": [
    "# Deriving \"days since the show started\"\n",
    "from datetime import date\n",
    "\n",
    "d0 = pd.Timestamp('2017-02-28 00:00:00', tz=None)\n",
    "#d0 = date(2017, 2, 28)\n",
    "d1 = media.Date\n",
    "\n",
    "print(type(d0))\n",
    "print(type(d1[0]))\n"
   ]
  },
  {
   "cell_type": "code",
   "execution_count": 66,
   "metadata": {
    "id": "OhtW5W1E6okr"
   },
   "outputs": [],
   "source": [
    "delta = d1 - d0\n",
    "media['day']= delta\n"
   ]
  },
  {
   "cell_type": "code",
   "execution_count": 67,
   "metadata": {
    "colab": {
     "base_uri": "https://localhost:8080/",
     "height": 206
    },
    "id": "-W_s_ulX30_S",
    "outputId": "4c8b4fac-8fd9-47be-e3c1-9a05556c7abe"
   },
   "outputs": [
    {
     "data": {
      "text/html": [
       "<div>\n",
       "<style scoped>\n",
       "    .dataframe tbody tr th:only-of-type {\n",
       "        vertical-align: middle;\n",
       "    }\n",
       "\n",
       "    .dataframe tbody tr th {\n",
       "        vertical-align: top;\n",
       "    }\n",
       "\n",
       "    .dataframe thead th {\n",
       "        text-align: right;\n",
       "    }\n",
       "</style>\n",
       "<table border=\"1\" class=\"dataframe\">\n",
       "  <thead>\n",
       "    <tr style=\"text-align: right;\">\n",
       "      <th></th>\n",
       "      <th>Date</th>\n",
       "      <th>Views_show</th>\n",
       "      <th>Visitors</th>\n",
       "      <th>Views_platform</th>\n",
       "      <th>Ad_impression</th>\n",
       "      <th>Cricket_match_india</th>\n",
       "      <th>Character_A</th>\n",
       "      <th>day</th>\n",
       "    </tr>\n",
       "  </thead>\n",
       "  <tbody>\n",
       "    <tr>\n",
       "      <th>0</th>\n",
       "      <td>2017-03-01</td>\n",
       "      <td>183738</td>\n",
       "      <td>1260228</td>\n",
       "      <td>1706478</td>\n",
       "      <td>1060860448</td>\n",
       "      <td>0</td>\n",
       "      <td>0</td>\n",
       "      <td>1 days</td>\n",
       "    </tr>\n",
       "    <tr>\n",
       "      <th>1</th>\n",
       "      <td>2017-03-02</td>\n",
       "      <td>193763</td>\n",
       "      <td>1270561</td>\n",
       "      <td>1690727</td>\n",
       "      <td>1031846645</td>\n",
       "      <td>0</td>\n",
       "      <td>0</td>\n",
       "      <td>2 days</td>\n",
       "    </tr>\n",
       "    <tr>\n",
       "      <th>2</th>\n",
       "      <td>2017-03-03</td>\n",
       "      <td>210479</td>\n",
       "      <td>1248183</td>\n",
       "      <td>1726157</td>\n",
       "      <td>1010867575</td>\n",
       "      <td>0</td>\n",
       "      <td>0</td>\n",
       "      <td>3 days</td>\n",
       "    </tr>\n",
       "    <tr>\n",
       "      <th>3</th>\n",
       "      <td>2017-03-04</td>\n",
       "      <td>240061</td>\n",
       "      <td>1492913</td>\n",
       "      <td>1855353</td>\n",
       "      <td>1079194579</td>\n",
       "      <td>1</td>\n",
       "      <td>0</td>\n",
       "      <td>4 days</td>\n",
       "    </tr>\n",
       "    <tr>\n",
       "      <th>4</th>\n",
       "      <td>2017-03-05</td>\n",
       "      <td>446314</td>\n",
       "      <td>1594712</td>\n",
       "      <td>2041418</td>\n",
       "      <td>1357736987</td>\n",
       "      <td>0</td>\n",
       "      <td>0</td>\n",
       "      <td>5 days</td>\n",
       "    </tr>\n",
       "  </tbody>\n",
       "</table>\n",
       "</div>"
      ],
      "text/plain": [
       "        Date  Views_show  Visitors  Views_platform  Ad_impression  \\\n",
       "0 2017-03-01      183738   1260228         1706478     1060860448   \n",
       "1 2017-03-02      193763   1270561         1690727     1031846645   \n",
       "2 2017-03-03      210479   1248183         1726157     1010867575   \n",
       "3 2017-03-04      240061   1492913         1855353     1079194579   \n",
       "4 2017-03-05      446314   1594712         2041418     1357736987   \n",
       "\n",
       "   Cricket_match_india  Character_A    day  \n",
       "0                    0            0 1 days  \n",
       "1                    0            0 2 days  \n",
       "2                    0            0 3 days  \n",
       "3                    1            0 4 days  \n",
       "4                    0            0 5 days  "
      ]
     },
     "execution_count": 67,
     "metadata": {},
     "output_type": "execute_result"
    }
   ],
   "source": [
    "media.head()"
   ]
  },
  {
   "cell_type": "code",
   "execution_count": 68,
   "metadata": {
    "id": "XAbTLMYz0hgs"
   },
   "outputs": [],
   "source": [
    "# Cleaning days\n",
    "media['day'] = media['day'].astype(str)\n",
    "media['day'] = media['day'].map(lambda x: x[0:2])\n",
    "media['day'] = media['day'].astype(int)"
   ]
  },
  {
   "cell_type": "code",
   "execution_count": 69,
   "metadata": {
    "colab": {
     "base_uri": "https://localhost:8080/",
     "height": 206
    },
    "id": "fSuGo5jw0hgs",
    "outputId": "b8930357-ff93-4dd2-98e6-e6365f7b95ef"
   },
   "outputs": [
    {
     "data": {
      "text/html": [
       "<div>\n",
       "<style scoped>\n",
       "    .dataframe tbody tr th:only-of-type {\n",
       "        vertical-align: middle;\n",
       "    }\n",
       "\n",
       "    .dataframe tbody tr th {\n",
       "        vertical-align: top;\n",
       "    }\n",
       "\n",
       "    .dataframe thead th {\n",
       "        text-align: right;\n",
       "    }\n",
       "</style>\n",
       "<table border=\"1\" class=\"dataframe\">\n",
       "  <thead>\n",
       "    <tr style=\"text-align: right;\">\n",
       "      <th></th>\n",
       "      <th>Date</th>\n",
       "      <th>Views_show</th>\n",
       "      <th>Visitors</th>\n",
       "      <th>Views_platform</th>\n",
       "      <th>Ad_impression</th>\n",
       "      <th>Cricket_match_india</th>\n",
       "      <th>Character_A</th>\n",
       "      <th>day</th>\n",
       "    </tr>\n",
       "  </thead>\n",
       "  <tbody>\n",
       "    <tr>\n",
       "      <th>0</th>\n",
       "      <td>2017-03-01</td>\n",
       "      <td>183738</td>\n",
       "      <td>1260228</td>\n",
       "      <td>1706478</td>\n",
       "      <td>1060860448</td>\n",
       "      <td>0</td>\n",
       "      <td>0</td>\n",
       "      <td>1</td>\n",
       "    </tr>\n",
       "    <tr>\n",
       "      <th>1</th>\n",
       "      <td>2017-03-02</td>\n",
       "      <td>193763</td>\n",
       "      <td>1270561</td>\n",
       "      <td>1690727</td>\n",
       "      <td>1031846645</td>\n",
       "      <td>0</td>\n",
       "      <td>0</td>\n",
       "      <td>2</td>\n",
       "    </tr>\n",
       "    <tr>\n",
       "      <th>2</th>\n",
       "      <td>2017-03-03</td>\n",
       "      <td>210479</td>\n",
       "      <td>1248183</td>\n",
       "      <td>1726157</td>\n",
       "      <td>1010867575</td>\n",
       "      <td>0</td>\n",
       "      <td>0</td>\n",
       "      <td>3</td>\n",
       "    </tr>\n",
       "    <tr>\n",
       "      <th>3</th>\n",
       "      <td>2017-03-04</td>\n",
       "      <td>240061</td>\n",
       "      <td>1492913</td>\n",
       "      <td>1855353</td>\n",
       "      <td>1079194579</td>\n",
       "      <td>1</td>\n",
       "      <td>0</td>\n",
       "      <td>4</td>\n",
       "    </tr>\n",
       "    <tr>\n",
       "      <th>4</th>\n",
       "      <td>2017-03-05</td>\n",
       "      <td>446314</td>\n",
       "      <td>1594712</td>\n",
       "      <td>2041418</td>\n",
       "      <td>1357736987</td>\n",
       "      <td>0</td>\n",
       "      <td>0</td>\n",
       "      <td>5</td>\n",
       "    </tr>\n",
       "  </tbody>\n",
       "</table>\n",
       "</div>"
      ],
      "text/plain": [
       "        Date  Views_show  Visitors  Views_platform  Ad_impression  \\\n",
       "0 2017-03-01      183738   1260228         1706478     1060860448   \n",
       "1 2017-03-02      193763   1270561         1690727     1031846645   \n",
       "2 2017-03-03      210479   1248183         1726157     1010867575   \n",
       "3 2017-03-04      240061   1492913         1855353     1079194579   \n",
       "4 2017-03-05      446314   1594712         2041418     1357736987   \n",
       "\n",
       "   Cricket_match_india  Character_A  day  \n",
       "0                    0            0    1  \n",
       "1                    0            0    2  \n",
       "2                    0            0    3  \n",
       "3                    1            0    4  \n",
       "4                    0            0    5  "
      ]
     },
     "execution_count": 69,
     "metadata": {},
     "output_type": "execute_result"
    }
   ],
   "source": [
    "media.head()"
   ]
  },
  {
   "cell_type": "code",
   "execution_count": 70,
   "metadata": {
    "colab": {
     "base_uri": "https://localhost:8080/",
     "height": 296
    },
    "id": "BtyFNPwe0hgt",
    "outputId": "5b58def3-6310-4185-d660-19ad6a2504d0"
   },
   "outputs": [
    {
     "data": {
      "text/plain": [
       "<AxesSubplot:xlabel='day'>"
      ]
     },
     "execution_count": 70,
     "metadata": {},
     "output_type": "execute_result"
    },
    {
     "data": {
      "image/png": "[encoded data removed]",
      "text/plain": [
       "<Figure size 432x288 with 1 Axes>"
      ]
     },
     "metadata": {
      "needs_background": "light"
     },
     "output_type": "display_data"
    }
   ],
   "source": [
    "# days vs Views_show\n",
    "media.plot.line(x='day', y='Views_show')"
   ]
  },
  {
   "cell_type": "code",
   "execution_count": 71,
   "metadata": {
    "colab": {
     "base_uri": "https://localhost:8080/",
     "height": 332
    },
    "id": "pjP5mywa0hgt",
    "outputId": "1ef490bd-c13a-4fdf-e329-d163e7ab46cd"
   },
   "outputs": [
    {
     "name": "stderr",
     "output_type": "stream",
     "text": [
      "*c* argument looks like a single numeric RGB or RGBA sequence, which should be avoided as value-mapping will have precedence in case its length matches with *x* & *y*.  Please use the *color* keyword-argument or provide a 2D array with a single row if you intend to specify the same RGB or RGBA value for all points.\n"
     ]
    },
    {
     "data": {
      "image/png": "[encoded data removed]",
      "text/plain": [
       "<Figure size 432x288 with 1 Axes>"
      ]
     },
     "metadata": {
      "needs_background": "light"
     },
     "output_type": "display_data"
    }
   ],
   "source": [
    "# Scatter Plot (days vs Views_show)\n",
    "colors = (0,0,0)\n",
    "area = np.pi*3\n",
    "plt.scatter(media.day, media.Views_show, s=area, c=colors, alpha=0.5)\n",
    "plt.title('Scatter plot pythonspot.com')\n",
    "plt.xlabel('x')\n",
    "plt.ylabel('y')\n",
    "plt.show()"
   ]
  },
  {
   "cell_type": "code",
   "execution_count": 72,
   "metadata": {
    "colab": {
     "base_uri": "https://localhost:8080/",
     "height": 273
    },
    "id": "7CIk5mpx0hgu",
    "outputId": "08a3c26b-7f1c-4749-f03e-b97c57ca6ada"
   },
   "outputs": [
    {
     "data": {
      "image/png": "[encoded data removed]",
      "text/plain": [
       "<Figure size 432x288 with 3 Axes>"
      ]
     },
     "metadata": {
      "needs_background": "light"
     },
     "output_type": "display_data"
    }
   ],
   "source": [
    "# plot for days vs Views_show and days vs Ad_impressions\n",
    "\n",
    "fig = plt.figure()\n",
    "host = fig.add_subplot(111)\n",
    "\n",
    "par1 = host.twinx()\n",
    "par2 = host.twinx()\n",
    "\n",
    "host.set_xlabel(\"Day\")\n",
    "host.set_ylabel(\"View_Show\")\n",
    "par1.set_ylabel(\"Ad_impression\")\n",
    "\n",
    "color1 = plt.cm.viridis(0)\n",
    "color2 = plt.cm.viridis(0.5)\n",
    "color3 = plt.cm.viridis(.9)\n",
    "\n",
    "p1, = host.plot(media.day,media.Views_show, color=color1,label=\"View_Show\")\n",
    "p2, = par1.plot(media.day,media.Ad_impression,color=color2, label=\"Ad_impression\")\n",
    "\n",
    "lns = [p1, p2]\n",
    "host.legend(handles=lns, loc='best')\n",
    "\n",
    "# right, left, top, bottom\n",
    "par2.spines['right'].set_position(('outward', 60))      \n",
    "# no x-ticks                 \n",
    "par2.xaxis.set_ticks([])\n",
    "# Sometimes handy, same for xaxis\n",
    "#par2.yaxis.set_ticks_position('right')\n",
    "\n",
    "host.yaxis.label.set_color(p1.get_color())\n",
    "par1.yaxis.label.set_color(p2.get_color())\n",
    "\n",
    "plt.savefig(\"pyplot_multiple_y-axis.png\", bbox_inches='tight')"
   ]
  },
  {
   "cell_type": "code",
   "execution_count": 73,
   "metadata": {
    "colab": {
     "base_uri": "https://localhost:8080/",
     "height": 206
    },
    "id": "q0EkYH0J0hgu",
    "outputId": "2c3b9fd6-03a3-49d5-a399-7c4482461255"
   },
   "outputs": [
    {
     "data": {
      "text/html": [
       "<div>\n",
       "<style scoped>\n",
       "    .dataframe tbody tr th:only-of-type {\n",
       "        vertical-align: middle;\n",
       "    }\n",
       "\n",
       "    .dataframe tbody tr th {\n",
       "        vertical-align: top;\n",
       "    }\n",
       "\n",
       "    .dataframe thead th {\n",
       "        text-align: right;\n",
       "    }\n",
       "</style>\n",
       "<table border=\"1\" class=\"dataframe\">\n",
       "  <thead>\n",
       "    <tr style=\"text-align: right;\">\n",
       "      <th></th>\n",
       "      <th>Date</th>\n",
       "      <th>Views_show</th>\n",
       "      <th>Visitors</th>\n",
       "      <th>Views_platform</th>\n",
       "      <th>Ad_impression</th>\n",
       "      <th>Cricket_match_india</th>\n",
       "      <th>Character_A</th>\n",
       "      <th>day</th>\n",
       "      <th>weekday</th>\n",
       "    </tr>\n",
       "  </thead>\n",
       "  <tbody>\n",
       "    <tr>\n",
       "      <th>0</th>\n",
       "      <td>2017-03-01</td>\n",
       "      <td>183738</td>\n",
       "      <td>1260228</td>\n",
       "      <td>1706478</td>\n",
       "      <td>1060860448</td>\n",
       "      <td>0</td>\n",
       "      <td>0</td>\n",
       "      <td>1</td>\n",
       "      <td>4</td>\n",
       "    </tr>\n",
       "    <tr>\n",
       "      <th>1</th>\n",
       "      <td>2017-03-02</td>\n",
       "      <td>193763</td>\n",
       "      <td>1270561</td>\n",
       "      <td>1690727</td>\n",
       "      <td>1031846645</td>\n",
       "      <td>0</td>\n",
       "      <td>0</td>\n",
       "      <td>2</td>\n",
       "      <td>5</td>\n",
       "    </tr>\n",
       "    <tr>\n",
       "      <th>2</th>\n",
       "      <td>2017-03-03</td>\n",
       "      <td>210479</td>\n",
       "      <td>1248183</td>\n",
       "      <td>1726157</td>\n",
       "      <td>1010867575</td>\n",
       "      <td>0</td>\n",
       "      <td>0</td>\n",
       "      <td>3</td>\n",
       "      <td>6</td>\n",
       "    </tr>\n",
       "    <tr>\n",
       "      <th>3</th>\n",
       "      <td>2017-03-04</td>\n",
       "      <td>240061</td>\n",
       "      <td>1492913</td>\n",
       "      <td>1855353</td>\n",
       "      <td>1079194579</td>\n",
       "      <td>1</td>\n",
       "      <td>0</td>\n",
       "      <td>4</td>\n",
       "      <td>7</td>\n",
       "    </tr>\n",
       "    <tr>\n",
       "      <th>4</th>\n",
       "      <td>2017-03-05</td>\n",
       "      <td>446314</td>\n",
       "      <td>1594712</td>\n",
       "      <td>2041418</td>\n",
       "      <td>1357736987</td>\n",
       "      <td>0</td>\n",
       "      <td>0</td>\n",
       "      <td>5</td>\n",
       "      <td>1</td>\n",
       "    </tr>\n",
       "  </tbody>\n",
       "</table>\n",
       "</div>"
      ],
      "text/plain": [
       "        Date  Views_show  Visitors  Views_platform  Ad_impression  \\\n",
       "0 2017-03-01      183738   1260228         1706478     1060860448   \n",
       "1 2017-03-02      193763   1270561         1690727     1031846645   \n",
       "2 2017-03-03      210479   1248183         1726157     1010867575   \n",
       "3 2017-03-04      240061   1492913         1855353     1079194579   \n",
       "4 2017-03-05      446314   1594712         2041418     1357736987   \n",
       "\n",
       "   Cricket_match_india  Character_A  day  weekday  \n",
       "0                    0            0    1        4  \n",
       "1                    0            0    2        5  \n",
       "2                    0            0    3        6  \n",
       "3                    1            0    4        7  \n",
       "4                    0            0    5        1  "
      ]
     },
     "execution_count": 73,
     "metadata": {},
     "output_type": "execute_result"
    }
   ],
   "source": [
    "# Derived Metrics\n",
    "# Weekdays are taken such that 1 corresponds to Sunday and 7 to Saturday\n",
    "# Generate the weekday variable\n",
    "media['weekday'] = (media['day']+3)%7\n",
    "media.weekday.replace(0,7, inplace=True)\n",
    "media['weekday'] = media['weekday'].astype(int)\n",
    "media.head()"
   ]
  },
  {
   "cell_type": "markdown",
   "metadata": {
    "id": "w6NDkCNF0hgv"
   },
   "source": [
    "#### Running first model (lm1) Weekday & visitors "
   ]
  },
  {
   "cell_type": "code",
   "execution_count": 74,
   "metadata": {
    "id": "gSGJxPYY0hgv"
   },
   "outputs": [],
   "source": [
    "# Putting feature variable to X\n",
    "X = media[['Visitors','weekday']]\n",
    "\n",
    "# Putting response variable to y\n",
    "y = media['Views_show']"
   ]
  },
  {
   "cell_type": "code",
   "execution_count": 75,
   "metadata": {
    "id": "w-ps4vSa0hgw",
    "tags": []
   },
   "outputs": [],
   "source": [
    "from sklearn.linear_model import LinearRegression"
   ]
  },
  {
   "cell_type": "code",
   "execution_count": 76,
   "metadata": {
    "id": "WE2Jdh-70hgw",
    "tags": []
   },
   "outputs": [],
   "source": [
    "# Representing LinearRegression as lr(Creating LinearRegression Object)\n",
    "lm = LinearRegression()"
   ]
  },
  {
   "cell_type": "code",
   "execution_count": 77,
   "metadata": {
    "colab": {
     "base_uri": "https://localhost:8080/"
    },
    "id": "MSrJ9TXm0hgw",
    "outputId": "5cb1a664-8278-45b7-a177-e4901ede19df"
   },
   "outputs": [
    {
     "data": {
      "text/plain": [
       "LinearRegression()"
      ]
     },
     "execution_count": 77,
     "metadata": {},
     "output_type": "execute_result"
    }
   ],
   "source": [
    "# fit the model to the training data\n",
    "lm.fit(X,y)"
   ]
  },
  {
   "cell_type": "code",
   "execution_count": 78,
   "metadata": {
    "colab": {
     "base_uri": "https://localhost:8080/"
    },
    "id": "-j9cBnEM0hgx",
    "outputId": "c423539a-ece4-4de9-ab70-df85970a5bb9"
   },
   "outputs": [
    {
     "name": "stdout",
     "output_type": "stream",
     "text": [
      "                            OLS Regression Results                            \n",
      "==============================================================================\n",
      "Dep. Variable:             Views_show   R-squared:                       0.485\n",
      "Model:                            OLS   Adj. R-squared:                  0.472\n",
      "Method:                 Least Squares   F-statistic:                     36.26\n",
      "Date:                Mon, 14 Aug 2023   Prob (F-statistic):           8.01e-12\n",
      "Time:                        13:03:42   Log-Likelihood:                -1042.5\n",
      "No. Observations:                  80   AIC:                             2091.\n",
      "Df Residuals:                      77   BIC:                             2098.\n",
      "Df Model:                           2                                         \n",
      "Covariance Type:            nonrobust                                         \n",
      "==============================================================================\n",
      "                 coef    std err          t      P>|t|      [0.025      0.975]\n",
      "------------------------------------------------------------------------------\n",
      "const      -3.862e+04   1.07e+05     -0.360      0.720   -2.52e+05    1.75e+05\n",
      "Visitors       0.2787      0.057      4.911      0.000       0.166       0.392\n",
      "weekday    -3.591e+04   6591.205     -5.448      0.000    -4.9e+04   -2.28e+04\n",
      "==============================================================================\n",
      "Omnibus:                        2.684   Durbin-Watson:                   0.650\n",
      "Prob(Omnibus):                  0.261   Jarque-Bera (JB):                2.653\n",
      "Skew:                           0.423   Prob(JB):                        0.265\n",
      "Kurtosis:                       2.718   Cond. No.                     1.46e+07\n",
      "==============================================================================\n",
      "\n",
      "Notes:\n",
      "[1] Standard Errors assume that the covariance matrix of the errors is correctly specified.\n",
      "[2] The condition number is large, 1.46e+07. This might indicate that there are\n",
      "strong multicollinearity or other numerical problems.\n"
     ]
    }
   ],
   "source": [
    "import statsmodels.api as sm\n",
    "#Unlike SKLearn, statsmodels don't automatically fit a constant, \n",
    "#so you need to use the method sm.add_constant(X) in order to add a constant. \n",
    "X = sm.add_constant(X)\n",
    "# create a fitted model in one line\n",
    "lm_1 = sm.OLS(y,X).fit()\n",
    "print(lm_1.summary())"
   ]
  },
  {
   "cell_type": "code",
   "execution_count": 79,
   "metadata": {
    "id": "TVb_SGwi0hgx"
   },
   "outputs": [],
   "source": [
    "# create Weekend variable, with value 1 at weekends and 0 at weekdays\n",
    "def cond(i):\n",
    "    if i % 7 == 5: return 1\n",
    "    elif i % 7 == 4: return 1\n",
    "    else :return 0\n",
    "    return i\n",
    "\n",
    "media['weekend']=[cond(i) for i in media['day']]"
   ]
  },
  {
   "cell_type": "code",
   "execution_count": 80,
   "metadata": {
    "colab": {
     "base_uri": "https://localhost:8080/",
     "height": 206
    },
    "id": "HfYN0EBf0hgx",
    "outputId": "270329dd-960f-4dd3-f9fd-c6a7c377614a"
   },
   "outputs": [
    {
     "data": {
      "text/html": [
       "<div>\n",
       "<style scoped>\n",
       "    .dataframe tbody tr th:only-of-type {\n",
       "        vertical-align: middle;\n",
       "    }\n",
       "\n",
       "    .dataframe tbody tr th {\n",
       "        vertical-align: top;\n",
       "    }\n",
       "\n",
       "    .dataframe thead th {\n",
       "        text-align: right;\n",
       "    }\n",
       "</style>\n",
       "<table border=\"1\" class=\"dataframe\">\n",
       "  <thead>\n",
       "    <tr style=\"text-align: right;\">\n",
       "      <th></th>\n",
       "      <th>Date</th>\n",
       "      <th>Views_show</th>\n",
       "      <th>Visitors</th>\n",
       "      <th>Views_platform</th>\n",
       "      <th>Ad_impression</th>\n",
       "      <th>Cricket_match_india</th>\n",
       "      <th>Character_A</th>\n",
       "      <th>day</th>\n",
       "      <th>weekday</th>\n",
       "      <th>weekend</th>\n",
       "    </tr>\n",
       "  </thead>\n",
       "  <tbody>\n",
       "    <tr>\n",
       "      <th>0</th>\n",
       "      <td>2017-03-01</td>\n",
       "      <td>183738</td>\n",
       "      <td>1260228</td>\n",
       "      <td>1706478</td>\n",
       "      <td>1060860448</td>\n",
       "      <td>0</td>\n",
       "      <td>0</td>\n",
       "      <td>1</td>\n",
       "      <td>4</td>\n",
       "      <td>0</td>\n",
       "    </tr>\n",
       "    <tr>\n",
       "      <th>1</th>\n",
       "      <td>2017-03-02</td>\n",
       "      <td>193763</td>\n",
       "      <td>1270561</td>\n",
       "      <td>1690727</td>\n",
       "      <td>1031846645</td>\n",
       "      <td>0</td>\n",
       "      <td>0</td>\n",
       "      <td>2</td>\n",
       "      <td>5</td>\n",
       "      <td>0</td>\n",
       "    </tr>\n",
       "    <tr>\n",
       "      <th>2</th>\n",
       "      <td>2017-03-03</td>\n",
       "      <td>210479</td>\n",
       "      <td>1248183</td>\n",
       "      <td>1726157</td>\n",
       "      <td>1010867575</td>\n",
       "      <td>0</td>\n",
       "      <td>0</td>\n",
       "      <td>3</td>\n",
       "      <td>6</td>\n",
       "      <td>0</td>\n",
       "    </tr>\n",
       "    <tr>\n",
       "      <th>3</th>\n",
       "      <td>2017-03-04</td>\n",
       "      <td>240061</td>\n",
       "      <td>1492913</td>\n",
       "      <td>1855353</td>\n",
       "      <td>1079194579</td>\n",
       "      <td>1</td>\n",
       "      <td>0</td>\n",
       "      <td>4</td>\n",
       "      <td>7</td>\n",
       "      <td>1</td>\n",
       "    </tr>\n",
       "    <tr>\n",
       "      <th>4</th>\n",
       "      <td>2017-03-05</td>\n",
       "      <td>446314</td>\n",
       "      <td>1594712</td>\n",
       "      <td>2041418</td>\n",
       "      <td>1357736987</td>\n",
       "      <td>0</td>\n",
       "      <td>0</td>\n",
       "      <td>5</td>\n",
       "      <td>1</td>\n",
       "      <td>1</td>\n",
       "    </tr>\n",
       "  </tbody>\n",
       "</table>\n",
       "</div>"
      ],
      "text/plain": [
       "        Date  Views_show  Visitors  Views_platform  Ad_impression  \\\n",
       "0 2017-03-01      183738   1260228         1706478     1060860448   \n",
       "1 2017-03-02      193763   1270561         1690727     1031846645   \n",
       "2 2017-03-03      210479   1248183         1726157     1010867575   \n",
       "3 2017-03-04      240061   1492913         1855353     1079194579   \n",
       "4 2017-03-05      446314   1594712         2041418     1357736987   \n",
       "\n",
       "   Cricket_match_india  Character_A  day  weekday  weekend  \n",
       "0                    0            0    1        4        0  \n",
       "1                    0            0    2        5        0  \n",
       "2                    0            0    3        6        0  \n",
       "3                    1            0    4        7        1  \n",
       "4                    0            0    5        1        1  "
      ]
     },
     "execution_count": 80,
     "metadata": {},
     "output_type": "execute_result"
    }
   ],
   "source": [
    "media.head()\n"
   ]
  },
  {
   "cell_type": "markdown",
   "metadata": {
    "id": "jnlcB8Zz0hgy"
   },
   "source": [
    "#### Running second model (lm2) visitors & weekend"
   ]
  },
  {
   "cell_type": "code",
   "execution_count": 81,
   "metadata": {
    "id": "XQFH219G0hgy",
    "tags": []
   },
   "outputs": [],
   "source": [
    "# Putting feature variable to X\n",
    "X = media[['Visitors','weekend']]\n",
    "\n",
    "# Putting response variable to y\n",
    "y = media['Views_show']"
   ]
  },
  {
   "cell_type": "code",
   "execution_count": 82,
   "metadata": {
    "colab": {
     "base_uri": "https://localhost:8080/"
    },
    "id": "zh5CZPPT0hgy",
    "outputId": "eaf39fc0-d4f2-42e3-c47e-e635740a7197"
   },
   "outputs": [
    {
     "name": "stdout",
     "output_type": "stream",
     "text": [
      "                            OLS Regression Results                            \n",
      "==============================================================================\n",
      "Dep. Variable:             Views_show   R-squared:                       0.500\n",
      "Model:                            OLS   Adj. R-squared:                  0.487\n",
      "Method:                 Least Squares   F-statistic:                     38.55\n",
      "Date:                Mon, 14 Aug 2023   Prob (F-statistic):           2.51e-12\n",
      "Time:                        13:03:48   Log-Likelihood:                -1041.3\n",
      "No. Observations:                  80   AIC:                             2089.\n",
      "Df Residuals:                      77   BIC:                             2096.\n",
      "Df Model:                           2                                         \n",
      "Covariance Type:            nonrobust                                         \n",
      "==============================================================================\n",
      "                 coef    std err          t      P>|t|      [0.025      0.975]\n",
      "------------------------------------------------------------------------------\n",
      "const      -8.833e+04   1.01e+05     -0.875      0.384   -2.89e+05    1.13e+05\n",
      "Visitors       0.1934      0.061      3.160      0.002       0.071       0.315\n",
      "weekend     1.807e+05   3.15e+04      5.740      0.000    1.18e+05    2.43e+05\n",
      "==============================================================================\n",
      "Omnibus:                        1.302   Durbin-Watson:                   1.254\n",
      "Prob(Omnibus):                  0.521   Jarque-Bera (JB):                1.367\n",
      "Skew:                           0.270   Prob(JB):                        0.505\n",
      "Kurtosis:                       2.656   Cond. No.                     1.41e+07\n",
      "==============================================================================\n",
      "\n",
      "Notes:\n",
      "[1] Standard Errors assume that the covariance matrix of the errors is correctly specified.\n",
      "[2] The condition number is large, 1.41e+07. This might indicate that there are\n",
      "strong multicollinearity or other numerical problems.\n"
     ]
    }
   ],
   "source": [
    "import statsmodels.api as sm\n",
    "#Unlike SKLearn, statsmodels don't automatically fit a constant, \n",
    "#so you need to use the method sm.add_constant(X) in order to add a constant. \n",
    "X = sm.add_constant(X)\n",
    "# create a fitted model in one line\n",
    "lm_2 = sm.OLS(y,X).fit()\n",
    "print(lm_2.summary())"
   ]
  },
  {
   "cell_type": "markdown",
   "metadata": {
    "id": "pC3WlqYr0hgy"
   },
   "source": [
    "#### Running third model (lm3) visitors, weekend & Character_A"
   ]
  },
  {
   "cell_type": "code",
   "execution_count": 83,
   "metadata": {
    "id": "vAz6C0RI0hgy",
    "tags": []
   },
   "outputs": [],
   "source": [
    "# Putting feature variable to X\n",
    "X = media[['Visitors','weekend','Character_A']]\n",
    "\n",
    "# Putting response variable to y\n",
    "y = media['Views_show']"
   ]
  },
  {
   "cell_type": "code",
   "execution_count": 84,
   "metadata": {
    "colab": {
     "base_uri": "https://localhost:8080/"
    },
    "id": "ZBjDF-3P0hgz",
    "outputId": "fdb15660-0fbd-46d0-a12f-9d8654cc6f60"
   },
   "outputs": [
    {
     "name": "stdout",
     "output_type": "stream",
     "text": [
      "                            OLS Regression Results                            \n",
      "==============================================================================\n",
      "Dep. Variable:             Views_show   R-squared:                       0.586\n",
      "Model:                            OLS   Adj. R-squared:                  0.570\n",
      "Method:                 Least Squares   F-statistic:                     35.84\n",
      "Date:                Mon, 14 Aug 2023   Prob (F-statistic):           1.53e-14\n",
      "Time:                        13:03:53   Log-Likelihood:                -1033.8\n",
      "No. Observations:                  80   AIC:                             2076.\n",
      "Df Residuals:                      76   BIC:                             2085.\n",
      "Df Model:                           3                                         \n",
      "Covariance Type:            nonrobust                                         \n",
      "===============================================================================\n",
      "                  coef    std err          t      P>|t|      [0.025      0.975]\n",
      "-------------------------------------------------------------------------------\n",
      "const       -4.722e+04   9.31e+04     -0.507      0.613   -2.33e+05    1.38e+05\n",
      "Visitors        0.1480      0.057      2.586      0.012       0.034       0.262\n",
      "weekend      1.812e+05   2.89e+04      6.281      0.000    1.24e+05    2.39e+05\n",
      "Character_A  9.542e+04   2.41e+04      3.963      0.000    4.75e+04    1.43e+05\n",
      "==============================================================================\n",
      "Omnibus:                        0.908   Durbin-Watson:                   1.600\n",
      "Prob(Omnibus):                  0.635   Jarque-Bera (JB):                0.876\n",
      "Skew:                          -0.009   Prob(JB):                        0.645\n",
      "Kurtosis:                       2.488   Cond. No.                     1.42e+07\n",
      "==============================================================================\n",
      "\n",
      "Notes:\n",
      "[1] Standard Errors assume that the covariance matrix of the errors is correctly specified.\n",
      "[2] The condition number is large, 1.42e+07. This might indicate that there are\n",
      "strong multicollinearity or other numerical problems.\n"
     ]
    }
   ],
   "source": [
    "import statsmodels.api as sm\n",
    "#Unlike SKLearn, statsmodels don't automatically fit a constant, \n",
    "#so you need to use the method sm.add_constant(X) in order to add a constant. \n",
    "X = sm.add_constant(X)\n",
    "# create a fitted model in one line\n",
    "lm_3 = sm.OLS(y,X).fit()\n",
    "print(lm_3.summary())"
   ]
  },
  {
   "cell_type": "code",
   "execution_count": 85,
   "metadata": {
    "id": "jNo8UEZu0hgz"
   },
   "outputs": [],
   "source": [
    "# Create lag variable\n",
    "media['Lag_Views'] = np.roll(media['Views_show'], 1)\n",
    "media.Lag_Views.replace(108961,0, inplace=True)"
   ]
  },
  {
   "cell_type": "code",
   "execution_count": 86,
   "metadata": {
    "colab": {
     "base_uri": "https://localhost:8080/",
     "height": 206
    },
    "id": "drEwW2Aa0hgz",
    "outputId": "6ffbf032-3c39-4f90-eb16-492c108e5fb8"
   },
   "outputs": [
    {
     "data": {
      "text/html": [
       "<div>\n",
       "<style scoped>\n",
       "    .dataframe tbody tr th:only-of-type {\n",
       "        vertical-align: middle;\n",
       "    }\n",
       "\n",
       "    .dataframe tbody tr th {\n",
       "        vertical-align: top;\n",
       "    }\n",
       "\n",
       "    .dataframe thead th {\n",
       "        text-align: right;\n",
       "    }\n",
       "</style>\n",
       "<table border=\"1\" class=\"dataframe\">\n",
       "  <thead>\n",
       "    <tr style=\"text-align: right;\">\n",
       "      <th></th>\n",
       "      <th>Date</th>\n",
       "      <th>Views_show</th>\n",
       "      <th>Visitors</th>\n",
       "      <th>Views_platform</th>\n",
       "      <th>Ad_impression</th>\n",
       "      <th>Cricket_match_india</th>\n",
       "      <th>Character_A</th>\n",
       "      <th>day</th>\n",
       "      <th>weekday</th>\n",
       "      <th>weekend</th>\n",
       "      <th>Lag_Views</th>\n",
       "    </tr>\n",
       "  </thead>\n",
       "  <tbody>\n",
       "    <tr>\n",
       "      <th>0</th>\n",
       "      <td>2017-03-01</td>\n",
       "      <td>183738</td>\n",
       "      <td>1260228</td>\n",
       "      <td>1706478</td>\n",
       "      <td>1060860448</td>\n",
       "      <td>0</td>\n",
       "      <td>0</td>\n",
       "      <td>1</td>\n",
       "      <td>4</td>\n",
       "      <td>0</td>\n",
       "      <td>0</td>\n",
       "    </tr>\n",
       "    <tr>\n",
       "      <th>1</th>\n",
       "      <td>2017-03-02</td>\n",
       "      <td>193763</td>\n",
       "      <td>1270561</td>\n",
       "      <td>1690727</td>\n",
       "      <td>1031846645</td>\n",
       "      <td>0</td>\n",
       "      <td>0</td>\n",
       "      <td>2</td>\n",
       "      <td>5</td>\n",
       "      <td>0</td>\n",
       "      <td>183738</td>\n",
       "    </tr>\n",
       "    <tr>\n",
       "      <th>2</th>\n",
       "      <td>2017-03-03</td>\n",
       "      <td>210479</td>\n",
       "      <td>1248183</td>\n",
       "      <td>1726157</td>\n",
       "      <td>1010867575</td>\n",
       "      <td>0</td>\n",
       "      <td>0</td>\n",
       "      <td>3</td>\n",
       "      <td>6</td>\n",
       "      <td>0</td>\n",
       "      <td>193763</td>\n",
       "    </tr>\n",
       "    <tr>\n",
       "      <th>3</th>\n",
       "      <td>2017-03-04</td>\n",
       "      <td>240061</td>\n",
       "      <td>1492913</td>\n",
       "      <td>1855353</td>\n",
       "      <td>1079194579</td>\n",
       "      <td>1</td>\n",
       "      <td>0</td>\n",
       "      <td>4</td>\n",
       "      <td>7</td>\n",
       "      <td>1</td>\n",
       "      <td>210479</td>\n",
       "    </tr>\n",
       "    <tr>\n",
       "      <th>4</th>\n",
       "      <td>2017-03-05</td>\n",
       "      <td>446314</td>\n",
       "      <td>1594712</td>\n",
       "      <td>2041418</td>\n",
       "      <td>1357736987</td>\n",
       "      <td>0</td>\n",
       "      <td>0</td>\n",
       "      <td>5</td>\n",
       "      <td>1</td>\n",
       "      <td>1</td>\n",
       "      <td>240061</td>\n",
       "    </tr>\n",
       "  </tbody>\n",
       "</table>\n",
       "</div>"
      ],
      "text/plain": [
       "        Date  Views_show  Visitors  Views_platform  Ad_impression  \\\n",
       "0 2017-03-01      183738   1260228         1706478     1060860448   \n",
       "1 2017-03-02      193763   1270561         1690727     1031846645   \n",
       "2 2017-03-03      210479   1248183         1726157     1010867575   \n",
       "3 2017-03-04      240061   1492913         1855353     1079194579   \n",
       "4 2017-03-05      446314   1594712         2041418     1357736987   \n",
       "\n",
       "   Cricket_match_india  Character_A  day  weekday  weekend  Lag_Views  \n",
       "0                    0            0    1        4        0          0  \n",
       "1                    0            0    2        5        0     183738  \n",
       "2                    0            0    3        6        0     193763  \n",
       "3                    1            0    4        7        1     210479  \n",
       "4                    0            0    5        1        1     240061  "
      ]
     },
     "execution_count": 86,
     "metadata": {},
     "output_type": "execute_result"
    }
   ],
   "source": [
    "media.head()"
   ]
  },
  {
   "cell_type": "markdown",
   "metadata": {
    "id": "cdDu3TpT0hgz"
   },
   "source": [
    "#### Running fourth model (lm4) visitors, Character_A, Lag_views & weekend"
   ]
  },
  {
   "cell_type": "code",
   "execution_count": 87,
   "metadata": {
    "id": "fTj-ihvA0hgz",
    "tags": []
   },
   "outputs": [],
   "source": [
    "# Putting feature variable to X\n",
    "X = media[['Visitors','Character_A','Lag_Views','weekend']]\n",
    "# Putting response variable to y\n",
    "y = media['Views_show']"
   ]
  },
  {
   "cell_type": "code",
   "execution_count": 88,
   "metadata": {
    "colab": {
     "base_uri": "https://localhost:8080/"
    },
    "id": "9OSJ29Qf0hgz",
    "outputId": "107ff5ca-0531-4649-ef74-b8eff688d8f5"
   },
   "outputs": [
    {
     "name": "stdout",
     "output_type": "stream",
     "text": [
      "                            OLS Regression Results                            \n",
      "==============================================================================\n",
      "Dep. Variable:             Views_show   R-squared:                       0.740\n",
      "Model:                            OLS   Adj. R-squared:                  0.726\n",
      "Method:                 Least Squares   F-statistic:                     53.46\n",
      "Date:                Mon, 14 Aug 2023   Prob (F-statistic):           3.16e-21\n",
      "Time:                        13:04:09   Log-Likelihood:                -1015.1\n",
      "No. Observations:                  80   AIC:                             2040.\n",
      "Df Residuals:                      75   BIC:                             2052.\n",
      "Df Model:                           4                                         \n",
      "Covariance Type:            nonrobust                                         \n",
      "===============================================================================\n",
      "                  coef    std err          t      P>|t|      [0.025      0.975]\n",
      "-------------------------------------------------------------------------------\n",
      "const        -2.98e+04   7.43e+04     -0.401      0.689   -1.78e+05    1.18e+05\n",
      "Visitors        0.0659      0.047      1.394      0.167      -0.028       0.160\n",
      "Character_A  5.527e+04   2.01e+04      2.748      0.008    1.52e+04    9.53e+04\n",
      "Lag_Views       0.4317      0.065      6.679      0.000       0.303       0.560\n",
      "weekend      2.273e+05    2.4e+04      9.467      0.000    1.79e+05    2.75e+05\n",
      "==============================================================================\n",
      "Omnibus:                        1.425   Durbin-Watson:                   2.626\n",
      "Prob(Omnibus):                  0.491   Jarque-Bera (JB):                0.821\n",
      "Skew:                          -0.130   Prob(JB):                        0.663\n",
      "Kurtosis:                       3.423   Cond. No.                     1.44e+07\n",
      "==============================================================================\n",
      "\n",
      "Notes:\n",
      "[1] Standard Errors assume that the covariance matrix of the errors is correctly specified.\n",
      "[2] The condition number is large, 1.44e+07. This might indicate that there are\n",
      "strong multicollinearity or other numerical problems.\n"
     ]
    }
   ],
   "source": [
    "import statsmodels.api as sm\n",
    "#Unlike SKLearn, statsmodels don't automatically fit a constant, \n",
    "#so you need to use the method sm.add_constant(X) in order to add a constant. \n",
    "X = sm.add_constant(X)\n",
    "# create a fitted model in one line\n",
    "lm_4 = sm.OLS(y,X).fit()\n",
    "print(lm_4.summary())"
   ]
  },
  {
   "cell_type": "code",
   "execution_count": 89,
   "metadata": {
    "colab": {
     "base_uri": "https://localhost:8080/",
     "height": 613
    },
    "id": "i7bpqH0d0hg0",
    "outputId": "bb21872f-0be0-4ef8-d228-a6472dba8ddd"
   },
   "outputs": [
    {
     "data": {
      "text/plain": [
       "<AxesSubplot:>"
      ]
     },
     "execution_count": 89,
     "metadata": {},
     "output_type": "execute_result"
    },
    {
     "data": {
      "image/png": "[encoded data removed]",
      "text/plain": [
       "<Figure size 1440x720 with 2 Axes>"
      ]
     },
     "metadata": {
      "needs_background": "light"
     },
     "output_type": "display_data"
    }
   ],
   "source": [
    "plt.figure(figsize = (20,10))        # Size of the figure\n",
    "sns.heatmap(media.corr(),annot = True)"
   ]
  },
  {
   "cell_type": "markdown",
   "metadata": {
    "id": "7BqTC_cJ0hg0"
   },
   "source": [
    "#### Running fifth model (lm5) Character_A, weekend & Views_platform"
   ]
  },
  {
   "cell_type": "code",
   "execution_count": 90,
   "metadata": {
    "id": "sNC30F7N0hg0",
    "tags": []
   },
   "outputs": [],
   "source": [
    "# Putting feature variable to X\n",
    "X = media[['weekend','Character_A','Views_platform']]\n",
    "\n",
    "# Putting response variable to y\n",
    "y = media['Views_show']"
   ]
  },
  {
   "cell_type": "code",
   "execution_count": 91,
   "metadata": {
    "colab": {
     "base_uri": "https://localhost:8080/"
    },
    "id": "TDIdpTbp0hg0",
    "outputId": "263bcb19-5e97-4a9f-a012-e40af252f923"
   },
   "outputs": [
    {
     "name": "stdout",
     "output_type": "stream",
     "text": [
      "                            OLS Regression Results                            \n",
      "==============================================================================\n",
      "Dep. Variable:             Views_show   R-squared:                       0.602\n",
      "Model:                            OLS   Adj. R-squared:                  0.586\n",
      "Method:                 Least Squares   F-statistic:                     38.24\n",
      "Date:                Mon, 14 Aug 2023   Prob (F-statistic):           3.59e-15\n",
      "Time:                        13:04:19   Log-Likelihood:                -1032.3\n",
      "No. Observations:                  80   AIC:                             2073.\n",
      "Df Residuals:                      76   BIC:                             2082.\n",
      "Df Model:                           3                                         \n",
      "Covariance Type:            nonrobust                                         \n",
      "==================================================================================\n",
      "                     coef    std err          t      P>|t|      [0.025      0.975]\n",
      "----------------------------------------------------------------------------------\n",
      "const          -1.205e+05   9.97e+04     -1.208      0.231   -3.19e+05    7.81e+04\n",
      "weekend         1.781e+05   2.78e+04      6.410      0.000    1.23e+05    2.33e+05\n",
      "Character_A     7.062e+04    2.6e+04      2.717      0.008    1.89e+04    1.22e+05\n",
      "Views_platform     0.1507      0.048      3.152      0.002       0.055       0.246\n",
      "==============================================================================\n",
      "Omnibus:                        4.279   Durbin-Watson:                   1.516\n",
      "Prob(Omnibus):                  0.118   Jarque-Bera (JB):                2.153\n",
      "Skew:                           0.061   Prob(JB):                        0.341\n",
      "Kurtosis:                       2.206   Cond. No.                     2.03e+07\n",
      "==============================================================================\n",
      "\n",
      "Notes:\n",
      "[1] Standard Errors assume that the covariance matrix of the errors is correctly specified.\n",
      "[2] The condition number is large, 2.03e+07. This might indicate that there are\n",
      "strong multicollinearity or other numerical problems.\n"
     ]
    }
   ],
   "source": [
    "import statsmodels.api as sm\n",
    "#Unlike SKLearn, statsmodels don't automatically fit a constant, \n",
    "#so you need to use the method sm.add_constant(X) in order to add a constant. \n",
    "X = sm.add_constant(X)\n",
    "# create a fitted model in one line\n",
    "lm_5 = sm.OLS(y,X).fit()\n",
    "print(lm_5.summary())"
   ]
  },
  {
   "cell_type": "markdown",
   "metadata": {
    "id": "2KbqjyQ90hg1"
   },
   "source": [
    "#### Running sixth model (lm6) Character_A, weekend & Visitors"
   ]
  },
  {
   "cell_type": "code",
   "execution_count": 92,
   "metadata": {
    "id": "TAr2QIRR0hg1",
    "tags": []
   },
   "outputs": [],
   "source": [
    "# Putting feature variable to X\n",
    "X = media[['weekend','Character_A','Visitors']]\n",
    "\n",
    "# Putting response variable to y\n",
    "y = media['Views_show']"
   ]
  },
  {
   "cell_type": "code",
   "execution_count": 93,
   "metadata": {
    "colab": {
     "base_uri": "https://localhost:8080/"
    },
    "id": "TRXZhosu0hg1",
    "outputId": "517ea2c7-59f2-4698-9148-b24f75d79c07"
   },
   "outputs": [
    {
     "name": "stdout",
     "output_type": "stream",
     "text": [
      "                            OLS Regression Results                            \n",
      "==============================================================================\n",
      "Dep. Variable:             Views_show   R-squared:                       0.586\n",
      "Model:                            OLS   Adj. R-squared:                  0.570\n",
      "Method:                 Least Squares   F-statistic:                     35.84\n",
      "Date:                Mon, 14 Aug 2023   Prob (F-statistic):           1.53e-14\n",
      "Time:                        13:04:23   Log-Likelihood:                -1033.8\n",
      "No. Observations:                  80   AIC:                             2076.\n",
      "Df Residuals:                      76   BIC:                             2085.\n",
      "Df Model:                           3                                         \n",
      "Covariance Type:            nonrobust                                         \n",
      "===============================================================================\n",
      "                  coef    std err          t      P>|t|      [0.025      0.975]\n",
      "-------------------------------------------------------------------------------\n",
      "const       -4.722e+04   9.31e+04     -0.507      0.613   -2.33e+05    1.38e+05\n",
      "weekend      1.812e+05   2.89e+04      6.281      0.000    1.24e+05    2.39e+05\n",
      "Character_A  9.542e+04   2.41e+04      3.963      0.000    4.75e+04    1.43e+05\n",
      "Visitors        0.1480      0.057      2.586      0.012       0.034       0.262\n",
      "==============================================================================\n",
      "Omnibus:                        0.908   Durbin-Watson:                   1.600\n",
      "Prob(Omnibus):                  0.635   Jarque-Bera (JB):                0.876\n",
      "Skew:                          -0.009   Prob(JB):                        0.645\n",
      "Kurtosis:                       2.488   Cond. No.                     1.42e+07\n",
      "==============================================================================\n",
      "\n",
      "Notes:\n",
      "[1] Standard Errors assume that the covariance matrix of the errors is correctly specified.\n",
      "[2] The condition number is large, 1.42e+07. This might indicate that there are\n",
      "strong multicollinearity or other numerical problems.\n"
     ]
    }
   ],
   "source": [
    "import statsmodels.api as sm\n",
    "#Unlike SKLearn, statsmodels don't automatically fit a constant, \n",
    "#so you need to use the method sm.add_constant(X) in order to add a constant. \n",
    "X = sm.add_constant(X)\n",
    "# create a fitted model in one line\n",
    "lm_6 = sm.OLS(y,X).fit()\n",
    "print(lm_6.summary())"
   ]
  },
  {
   "cell_type": "markdown",
   "metadata": {
    "id": "nVMklKAj0hg1"
   },
   "source": [
    "#### Running seventh model (lm7) Character_A, weekend, Visitors & Ad_impressions"
   ]
  },
  {
   "cell_type": "code",
   "execution_count": 94,
   "metadata": {
    "id": "zlOfN_UQ0hg1",
    "tags": []
   },
   "outputs": [],
   "source": [
    "# Putting feature variable to X\n",
    "X = media[['weekend','Character_A','Visitors','Ad_impression']]\n",
    "\n",
    "# Putting response variable to y\n",
    "y = media['Views_show']"
   ]
  },
  {
   "cell_type": "code",
   "execution_count": 46,
   "metadata": {
    "colab": {
     "base_uri": "https://localhost:8080/"
    },
    "id": "nGqih7tj0hg2",
    "outputId": "32039f60-1efd-44e7-e785-8461d430b01c"
   },
   "outputs": [
    {
     "name": "stdout",
     "output_type": "stream",
     "text": [
      "                            OLS Regression Results                            \n",
      "==============================================================================\n",
      "Dep. Variable:             Views_show   R-squared:                       0.803\n",
      "Model:                            OLS   Adj. R-squared:                  0.792\n",
      "Method:                 Least Squares   F-statistic:                     76.40\n",
      "Date:                Tue, 01 Feb 2022   Prob (F-statistic):           1.10e-25\n",
      "Time:                        10:55:09   Log-Likelihood:                -1004.1\n",
      "No. Observations:                  80   AIC:                             2018.\n",
      "Df Residuals:                      75   BIC:                             2030.\n",
      "Df Model:                           4                                         \n",
      "Covariance Type:            nonrobust                                         \n",
      "=================================================================================\n",
      "                    coef    std err          t      P>|t|      [0.025      0.975]\n",
      "---------------------------------------------------------------------------------\n",
      "const         -2.834e+05   6.97e+04     -4.067      0.000   -4.22e+05   -1.45e+05\n",
      "weekend        1.485e+05   2.04e+04      7.296      0.000    1.08e+05    1.89e+05\n",
      "Character_A   -2.934e+04   2.16e+04     -1.356      0.179   -7.24e+04    1.38e+04\n",
      "Visitors          0.0144      0.042      0.340      0.735      -0.070       0.099\n",
      "Ad_impression     0.0004   3.96e-05      9.090      0.000       0.000       0.000\n",
      "==============================================================================\n",
      "Omnibus:                        4.808   Durbin-Watson:                   1.166\n",
      "Prob(Omnibus):                  0.090   Jarque-Bera (JB):                4.007\n",
      "Skew:                           0.476   Prob(JB):                        0.135\n",
      "Kurtosis:                       3.545   Cond. No.                     1.32e+10\n",
      "==============================================================================\n",
      "\n",
      "Warnings:\n",
      "[1] Standard Errors assume that the covariance matrix of the errors is correctly specified.\n",
      "[2] The condition number is large, 1.32e+10. This might indicate that there are\n",
      "strong multicollinearity or other numerical problems.\n"
     ]
    }
   ],
   "source": [
    "import statsmodels.api as sm\n",
    "#Unlike SKLearn, statsmodels don't automatically fit a constant, \n",
    "#so you need to use the method sm.add_constant(X) in order to add a constant. \n",
    "X = sm.add_constant(X)\n",
    "# create a fitted model in one line\n",
    "lm_7 = sm.OLS(y,X).fit()\n",
    "print(lm_7.summary())"
   ]
  },
  {
   "cell_type": "markdown",
   "metadata": {
    "id": "_eGmC9X60hg2"
   },
   "source": [
    "#### Running eight model (lm8) Character_A, weekend & Ad_impressions"
   ]
  },
  {
   "cell_type": "code",
   "execution_count": 47,
   "metadata": {
    "collapsed": true,
    "id": "yJFUEmvE0hg2",
    "jupyter": {
     "outputs_hidden": true
    }
   },
   "outputs": [],
   "source": [
    "# Putting feature variable to X\n",
    "X = media[['weekend','Character_A','Ad_impression']]\n",
    "\n",
    "# Putting response variable to y\n",
    "y = media['Views_show']"
   ]
  },
  {
   "cell_type": "code",
   "execution_count": 48,
   "metadata": {
    "colab": {
     "base_uri": "https://localhost:8080/"
    },
    "id": "NLlDvO4X0hg2",
    "outputId": "e3648934-dccd-4ab1-ef1f-62d82cd93608"
   },
   "outputs": [
    {
     "name": "stdout",
     "output_type": "stream",
     "text": [
      "                            OLS Regression Results                            \n",
      "==============================================================================\n",
      "Dep. Variable:             Views_show   R-squared:                       0.803\n",
      "Model:                            OLS   Adj. R-squared:                  0.795\n",
      "Method:                 Least Squares   F-statistic:                     103.0\n",
      "Date:                Tue, 01 Feb 2022   Prob (F-statistic):           1.05e-26\n",
      "Time:                        10:55:13   Log-Likelihood:                -1004.2\n",
      "No. Observations:                  80   AIC:                             2016.\n",
      "Df Residuals:                      76   BIC:                             2026.\n",
      "Df Model:                           3                                         \n",
      "Covariance Type:            nonrobust                                         \n",
      "=================================================================================\n",
      "                    coef    std err          t      P>|t|      [0.025      0.975]\n",
      "---------------------------------------------------------------------------------\n",
      "const         -2.661e+05   4.74e+04     -5.609      0.000   -3.61e+05   -1.72e+05\n",
      "weekend         1.51e+05   1.88e+04      8.019      0.000    1.14e+05    1.89e+05\n",
      "Character_A    -2.99e+04   2.14e+04     -1.394      0.167   -7.26e+04    1.28e+04\n",
      "Ad_impression     0.0004   3.69e-05      9.875      0.000       0.000       0.000\n",
      "==============================================================================\n",
      "Omnibus:                        4.723   Durbin-Watson:                   1.169\n",
      "Prob(Omnibus):                  0.094   Jarque-Bera (JB):                3.939\n",
      "Skew:                           0.453   Prob(JB):                        0.139\n",
      "Kurtosis:                       3.601   Cond. No.                     9.26e+09\n",
      "==============================================================================\n",
      "\n",
      "Warnings:\n",
      "[1] Standard Errors assume that the covariance matrix of the errors is correctly specified.\n",
      "[2] The condition number is large, 9.26e+09. This might indicate that there are\n",
      "strong multicollinearity or other numerical problems.\n"
     ]
    }
   ],
   "source": [
    "import statsmodels.api as sm\n",
    "#Unlike SKLearn, statsmodels don't automatically fit a constant, \n",
    "#so you need to use the method sm.add_constant(X) in order to add a constant. \n",
    "X = sm.add_constant(X)\n",
    "# create a fitted model in one line\n",
    "lm_8 = sm.OLS(y,X).fit()\n",
    "print(lm_8.summary())"
   ]
  },
  {
   "cell_type": "code",
   "execution_count": 49,
   "metadata": {
    "collapsed": true,
    "id": "YvJTTRHS0hg2",
    "jupyter": {
     "outputs_hidden": true
    }
   },
   "outputs": [],
   "source": [
    "#Ad impression in million\n",
    "media['ad_impression_million'] = media['Ad_impression']/1000000"
   ]
  },
  {
   "cell_type": "markdown",
   "metadata": {
    "id": "emnPdN9t0hg2"
   },
   "source": [
    "#### Running seventh model (lm7) Character_A, weekend, Visitors, ad_impressions_million & Cricket_match_india"
   ]
  },
  {
   "cell_type": "code",
   "execution_count": 50,
   "metadata": {
    "collapsed": true,
    "id": "Y1VOpVql0hg3",
    "jupyter": {
     "outputs_hidden": true
    }
   },
   "outputs": [],
   "source": [
    "# Putting feature variable to X\n",
    "X = media[['weekend','Character_A','ad_impression_million','Cricket_match_india']]\n",
    "\n",
    "# Putting response variable to y\n",
    "y = media['Views_show']"
   ]
  },
  {
   "cell_type": "code",
   "execution_count": 51,
   "metadata": {
    "colab": {
     "base_uri": "https://localhost:8080/"
    },
    "id": "HKL1dL5A0hg3",
    "outputId": "9faae0ad-6e7f-4232-d0dc-e722d2739232"
   },
   "outputs": [
    {
     "name": "stdout",
     "output_type": "stream",
     "text": [
      "                            OLS Regression Results                            \n",
      "==============================================================================\n",
      "Dep. Variable:             Views_show   R-squared:                       0.803\n",
      "Model:                            OLS   Adj. R-squared:                  0.793\n",
      "Method:                 Least Squares   F-statistic:                     76.59\n",
      "Date:                Tue, 01 Feb 2022   Prob (F-statistic):           1.02e-25\n",
      "Time:                        10:55:19   Log-Likelihood:                -1004.0\n",
      "No. Observations:                  80   AIC:                             2018.\n",
      "Df Residuals:                      75   BIC:                             2030.\n",
      "Df Model:                           4                                         \n",
      "Covariance Type:            nonrobust                                         \n",
      "=========================================================================================\n",
      "                            coef    std err          t      P>|t|      [0.025      0.975]\n",
      "-----------------------------------------------------------------------------------------\n",
      "const                 -2.633e+05    4.8e+04     -5.484      0.000   -3.59e+05   -1.68e+05\n",
      "weekend                1.521e+05    1.9e+04      7.987      0.000    1.14e+05     1.9e+05\n",
      "Character_A           -3.196e+04   2.19e+04     -1.457      0.149   -7.57e+04    1.17e+04\n",
      "ad_impression_million   363.7938     37.113      9.802      0.000     289.861     437.727\n",
      "Cricket_match_india   -1.396e+04   2.74e+04     -0.510      0.612   -6.85e+04    4.06e+04\n",
      "==============================================================================\n",
      "Omnibus:                        5.270   Durbin-Watson:                   1.161\n",
      "Prob(Omnibus):                  0.072   Jarque-Bera (JB):                4.560\n",
      "Skew:                           0.468   Prob(JB):                        0.102\n",
      "Kurtosis:                       3.701   Cond. No.                     9.32e+03\n",
      "==============================================================================\n",
      "\n",
      "Warnings:\n",
      "[1] Standard Errors assume that the covariance matrix of the errors is correctly specified.\n",
      "[2] The condition number is large, 9.32e+03. This might indicate that there are\n",
      "strong multicollinearity or other numerical problems.\n"
     ]
    }
   ],
   "source": [
    "import statsmodels.api as sm\n",
    "#Unlike SKLearn, statsmodels don't automatically fit a constant, \n",
    "#so you need to use the method sm.add_constant(X) in order to add a constant. \n",
    "X = sm.add_constant(X)\n",
    "# create a fitted model in one line\n",
    "lm_9 = sm.OLS(y,X).fit()\n",
    "print(lm_9.summary())"
   ]
  },
  {
   "cell_type": "markdown",
   "metadata": {
    "id": "QuXPdvZP0hg3"
   },
   "source": [
    "#### Running seventh model (lm7) Character_A, weekend & ad_impressions_million"
   ]
  },
  {
   "cell_type": "code",
   "execution_count": 52,
   "metadata": {
    "collapsed": true,
    "id": "SUW2CCGV0hg3",
    "jupyter": {
     "outputs_hidden": true
    }
   },
   "outputs": [],
   "source": [
    "# Putting feature variable to X\n",
    "X = media[['weekend','Character_A','ad_impression_million']]\n",
    "\n",
    "# Putting response variable to y\n",
    "y = media['Views_show']"
   ]
  },
  {
   "cell_type": "code",
   "execution_count": 53,
   "metadata": {
    "colab": {
     "base_uri": "https://localhost:8080/"
    },
    "id": "Rq-T2xdM0hg3",
    "outputId": "4cdf4788-1b98-497a-b4db-cb2b3b3aa2cb"
   },
   "outputs": [
    {
     "name": "stdout",
     "output_type": "stream",
     "text": [
      "                            OLS Regression Results                            \n",
      "==============================================================================\n",
      "Dep. Variable:             Views_show   R-squared:                       0.803\n",
      "Model:                            OLS   Adj. R-squared:                  0.795\n",
      "Method:                 Least Squares   F-statistic:                     103.0\n",
      "Date:                Tue, 01 Feb 2022   Prob (F-statistic):           1.05e-26\n",
      "Time:                        10:55:24   Log-Likelihood:                -1004.2\n",
      "No. Observations:                  80   AIC:                             2016.\n",
      "Df Residuals:                      76   BIC:                             2026.\n",
      "Df Model:                           3                                         \n",
      "Covariance Type:            nonrobust                                         \n",
      "=========================================================================================\n",
      "                            coef    std err          t      P>|t|      [0.025      0.975]\n",
      "-----------------------------------------------------------------------------------------\n",
      "const                 -2.661e+05   4.74e+04     -5.609      0.000   -3.61e+05   -1.72e+05\n",
      "weekend                 1.51e+05   1.88e+04      8.019      0.000    1.14e+05    1.89e+05\n",
      "Character_A            -2.99e+04   2.14e+04     -1.394      0.167   -7.26e+04    1.28e+04\n",
      "ad_impression_million   364.4670     36.909      9.875      0.000     290.957     437.977\n",
      "==============================================================================\n",
      "Omnibus:                        4.723   Durbin-Watson:                   1.169\n",
      "Prob(Omnibus):                  0.094   Jarque-Bera (JB):                3.939\n",
      "Skew:                           0.453   Prob(JB):                        0.139\n",
      "Kurtosis:                       3.601   Cond. No.                     9.26e+03\n",
      "==============================================================================\n",
      "\n",
      "Warnings:\n",
      "[1] Standard Errors assume that the covariance matrix of the errors is correctly specified.\n",
      "[2] The condition number is large, 9.26e+03. This might indicate that there are\n",
      "strong multicollinearity or other numerical problems.\n"
     ]
    }
   ],
   "source": [
    "import statsmodels.api as sm\n",
    "#Unlike SKLearn, statsmodels don't automatically fit a constant, \n",
    "#so you need to use the method sm.add_constant(X) in order to add a constant. \n",
    "X = sm.add_constant(X)\n",
    "# create a fitted model in one line\n",
    "lm_10 = sm.OLS(y,X).fit()\n",
    "print(lm_10.summary())"
   ]
  },
  {
   "cell_type": "markdown",
   "metadata": {
    "id": "38gETWTM0hg3"
   },
   "source": [
    "#### Making predictions using lm10"
   ]
  },
  {
   "cell_type": "code",
   "execution_count": 54,
   "metadata": {
    "id": "e6f_gn_30hg4"
   },
   "outputs": [],
   "source": [
    "# Making predictions using the model\n",
    "X = media[['weekend','Character_A','ad_impression_million']]\n",
    "X = sm.add_constant(X)\n",
    "Predicted_views = lm_10.predict(X)"
   ]
  },
  {
   "cell_type": "code",
   "execution_count": 55,
   "metadata": {
    "collapsed": true,
    "id": "aoVSEpA80hg4",
    "jupyter": {
     "outputs_hidden": true
    }
   },
   "outputs": [],
   "source": [
    "from sklearn.metrics import mean_squared_error, r2_score\n",
    "mse = mean_squared_error(media.Views_show, Predicted_views)\n",
    "r_squared = r2_score(media.Views_show, Predicted_views)"
   ]
  },
  {
   "cell_type": "code",
   "execution_count": 56,
   "metadata": {
    "colab": {
     "base_uri": "https://localhost:8080/"
    },
    "id": "mIxaMAZt0hg4",
    "outputId": "3d93b896-8290-4496-ce12-393a2c322c00"
   },
   "outputs": [
    {
     "name": "stdout",
     "output_type": "stream",
     "text": [
      "Mean_Squared_Error : 4677651616.2534075\n",
      "r_square_value : 0.802643446857565\n"
     ]
    }
   ],
   "source": [
    "print('Mean_Squared_Error :' ,mse)\n",
    "print('r_square_value :',r_squared)"
   ]
  },
  {
   "cell_type": "code",
   "execution_count": 57,
   "metadata": {
    "colab": {
     "base_uri": "https://localhost:8080/",
     "height": 333
    },
    "id": "CvRagh-p0hg4",
    "outputId": "c896938c-15de-4ab6-db6f-2a67eead8632"
   },
   "outputs": [
    {
     "data": {
      "text/plain": [
       "Text(0, 0.5, 'Views')"
      ]
     },
     "execution_count": 57,
     "metadata": {},
     "output_type": "execute_result"
    },
    {
     "data": {
      "image/png": "[encoded data removed]",
      "text/plain": [
       "<Figure size 432x288 with 1 Axes>"
      ]
     },
     "metadata": {
      "needs_background": "light"
     },
     "output_type": "display_data"
    }
   ],
   "source": [
    "#Actual vs Predicted\n",
    "c = [i for i in range(1,81,1)]\n",
    "fig = plt.figure()\n",
    "plt.plot(c,media.Views_show, color=\"blue\", linewidth=2.5, linestyle=\"-\")\n",
    "plt.plot(c,Predicted_views, color=\"red\",  linewidth=2.5, linestyle=\"-\")\n",
    "fig.suptitle('Actual and Predicted', fontsize=20)              # Plot heading \n",
    "plt.xlabel('Index', fontsize=18)                               # X-label\n",
    "plt.ylabel('Views', fontsize=16)                               # Y-label"
   ]
  },
  {
   "cell_type": "code",
   "execution_count": 58,
   "metadata": {
    "colab": {
     "base_uri": "https://localhost:8080/",
     "height": 333
    },
    "id": "EuTEjFfU0hg4",
    "outputId": "38437ef0-419e-44b3-f4d1-0901486145e9"
   },
   "outputs": [
    {
     "data": {
      "text/plain": [
       "Text(0, 0.5, 'Views_show-Predicted_views')"
      ]
     },
     "execution_count": 58,
     "metadata": {},
     "output_type": "execute_result"
    },
    {
     "data": {
      "image/png": "[encoded data removed]",
      "text/plain": [
       "<Figure size 432x288 with 1 Axes>"
      ]
     },
     "metadata": {
      "needs_background": "light"
     },
     "output_type": "display_data"
    }
   ],
   "source": [
    "# Error terms\n",
    "c = [i for i in range(1,81,1)]\n",
    "fig = plt.figure()\n",
    "plt.plot(c,media.Views_show-Predicted_views, color=\"blue\", linewidth=2.5, linestyle=\"-\")\n",
    "fig.suptitle('Error Terms', fontsize=20)              # Plot heading \n",
    "plt.xlabel('Index', fontsize=18)                      # X-label\n",
    "plt.ylabel('Views_show-Predicted_views', fontsize=16)                # Y-label"
   ]
  },
  {
   "cell_type": "markdown",
   "metadata": {
    "id": "xpagowNo0hg4"
   },
   "source": [
    "#### Making predictions using lm6"
   ]
  },
  {
   "cell_type": "code",
   "execution_count": 95,
   "metadata": {
    "id": "WlLkBdFU0hg5",
    "tags": []
   },
   "outputs": [],
   "source": [
    "# Making predictions using the model\n",
    "X = media[['weekend','Character_A','Visitors']]\n",
    "X = sm.add_constant(X)\n",
    "Predicted_views = lm_6.predict(X)"
   ]
  },
  {
   "cell_type": "code",
   "execution_count": 96,
   "metadata": {
    "id": "sjH9AtZ10hg5",
    "tags": []
   },
   "outputs": [],
   "source": [
    "from sklearn.metrics import mean_squared_error, r2_score\n",
    "mse = mean_squared_error(media.Views_show, Predicted_views)\n",
    "r_squared = r2_score(media.Views_show, Predicted_views)"
   ]
  },
  {
   "cell_type": "code",
   "execution_count": 97,
   "metadata": {
    "colab": {
     "base_uri": "https://localhost:8080/"
    },
    "id": "DzzSIKqV0hg5",
    "outputId": "d79cc23e-07f1-44d1-c8c1-e2a36c51c111"
   },
   "outputs": [
    {
     "name": "stdout",
     "output_type": "stream",
     "text": [
      "Mean_Squared_Error : 9815432480.451523\n",
      "r_square_value : 0.585873408097934\n"
     ]
    }
   ],
   "source": [
    "print('Mean_Squared_Error :' ,mse)\n",
    "print('r_square_value :',r_squared)"
   ]
  },
  {
   "cell_type": "code",
   "execution_count": 98,
   "metadata": {
    "colab": {
     "base_uri": "https://localhost:8080/",
     "height": 333
    },
    "id": "Qq6McCpv0hg5",
    "outputId": "1bc34705-c43c-4d3a-f2fb-0545f25663e8"
   },
   "outputs": [
    {
     "data": {
      "text/plain": [
       "Text(0, 0.5, 'Views')"
      ]
     },
     "execution_count": 98,
     "metadata": {},
     "output_type": "execute_result"
    },
    {
     "data": {
      "image/png": "[encoded data removed]",
      "text/plain": [
       "<Figure size 432x288 with 1 Axes>"
      ]
     },
     "metadata": {
      "needs_background": "light"
     },
     "output_type": "display_data"
    }
   ],
   "source": [
    "#Actual vs Predicted\n",
    "c = [i for i in range(1,81,1)]\n",
    "fig = plt.figure()\n",
    "plt.plot(c,media.Views_show, color=\"blue\", linewidth=2.5, linestyle=\"-\")\n",
    "plt.plot(c,Predicted_views, color=\"red\",  linewidth=2.5, linestyle=\"-\")\n",
    "fig.suptitle('Actual and Predicted', fontsize=20)              # Plot heading \n",
    "plt.xlabel('Index', fontsize=18)                               # X-label\n",
    "plt.ylabel('Views', fontsize=16)                               # Y-label"
   ]
  },
  {
   "cell_type": "code",
   "execution_count": 63,
   "metadata": {
    "colab": {
     "base_uri": "https://localhost:8080/",
     "height": 333
    },
    "id": "WnKE8zyt0hg5",
    "outputId": "989b2c41-f143-4c3f-d3e9-d3c134e88f19"
   },
   "outputs": [
    {
     "data": {
      "text/plain": [
       "Text(0, 0.5, 'Views_show-Predicted_views')"
      ]
     },
     "execution_count": 63,
     "metadata": {},
     "output_type": "execute_result"
    },
    {
     "data": {
      "image/png": "[encoded data removed]",
      "text/plain": [
       "<Figure size 432x288 with 1 Axes>"
      ]
     },
     "metadata": {
      "needs_background": "light"
     },
     "output_type": "display_data"
    }
   ],
   "source": [
    "# Error terms\n",
    "c = [i for i in range(1,81,1)]\n",
    "fig = plt.figure()\n",
    "plt.plot(c,media.Views_show-Predicted_views, color=\"blue\", linewidth=2.5, linestyle=\"-\")\n",
    "fig.suptitle('Error Terms', fontsize=20)              # Plot heading \n",
    "plt.xlabel('Index', fontsize=18)                      # X-label\n",
    "plt.ylabel('Views_show-Predicted_views', fontsize=16)                # Y-label"
   ]
  },
  {
   "cell_type": "code",
   "execution_count": 63,
   "metadata": {
    "id": "rfzo2e2x7KP7"
   },
   "outputs": [],
   "source": []
  }
 ],
 "metadata": {
  "colab": {
   "collapsed_sections": [],
   "name": "Media+Company_updated.ipynb",
   "provenance": []
  },
  "kernelspec": {
   "display_name": "anaconda-2022.05-py39",
   "language": "python",
   "name": "conda-env-anaconda-2022.05-py39-py"
  },
  "language_info": {
   "codemirror_mode": {
    "name": "ipython",
    "version": 3
   },
   "file_extension": ".py",
   "mimetype": "text/x-python",
   "name": "python",
   "nbconvert_exporter": "python",
   "pygments_lexer": "ipython3",
   "version": "3.9.12"
  }
 },
 "nbformat": 4,
 "nbformat_minor": 4
}
