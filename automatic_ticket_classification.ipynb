{
  "nbformat": 4,
  "nbformat_minor": 0,
  "metadata": {
    "colab": {
      "provenance": []
    },
    "kernelspec": {
      "name": "python3",
      "display_name": "Python 3"
    },
    "language_info": {
      "name": "python"
    }
  },
  "cells": [
    {
      "cell_type": "markdown",
      "source": [
        "# **problem statement:**\n",
        "### You need to build a model that is able to classify customer complaints based on the products/services. By doing so, you can segregate these tickets into their relevant categories and, therefore, help in the quick resolution of the issue.\n",
        "\n",
        " \n",
        "\n",
        "###With the help of non-negative matrix factorization (NMF), an approach under topic modelling, you will detect patterns and recurring words present in each ticket. This can be then used to understand the important features for each cluster of categories. By segregating the clusters, you will be able to identify the topics of the customer complaints. \n",
        "\n",
        " \n",
        "\n",
        "###You will be doing topic modelling on the .json data provided by the company. Since this data is not labelled, you need to apply NMF to analyse patterns and classify tickets into the following five clusters based on their products/services:\n",
        "\n",
        "###Credit card / Prepaid card\n",
        "\n",
        "###Bank account services\n",
        "\n",
        "###Theft/Dispute reporting\n",
        "\n",
        "###Mortgages/loans\n",
        "\n",
        "###Others \n",
        "\n",
        "### With the help of topic modelling, you will be able to map each ticket onto its respective"
      ],
      "metadata": {
        "id": "ar9QRySZSR7O"
      }
    },
    {
      "cell_type": "markdown",
      "source": [
        "# **Pipeline Task Alloted:**\n",
        "\n",
        "**Data loading**\n",
        "\n",
        "**Text preprocessing**\n",
        "\n",
        "**Exploratory data analysis (EDA)**\n",
        "\n",
        "**Feature extraction**\n",
        "\n",
        "**Topic modelling** \n",
        "\n",
        "**Model building using supervised learning**\n",
        "\n",
        "**Model training and evaluation**\n",
        "\n",
        "**Model inference**"
      ],
      "metadata": {
        "id": "WIuqPPKRTKYO"
      }
    },
    {
      "cell_type": "markdown",
      "source": [
        "#**Importing Libraries**"
      ],
      "metadata": {
        "id": "GuAq3UeQYyey"
      }
    },
    {
      "cell_type": "code",
      "source": [
        "pip 7.1.2 from c:\\python27\\lib\\site-packages (python 2.7)"
      ],
      "metadata": {
        "colab": {
          "base_uri": "https://localhost:8080/"
        },
        "id": "4Uc9RWye81Fk",
        "outputId": "417f3c03-cb6d-4a2d-84ed-2f4919893f13"
      },
      "execution_count": 55,
      "outputs": [
        {
          "output_type": "stream",
          "name": "stdout",
          "text": [
            "/bin/bash: -c: line 0: syntax error near unexpected token `('\n",
            "/bin/bash: -c: line 0: `pip 7.1.2 from c:\\python27\\lib\\site-packages (python 2.7)'\n"
          ]
        }
      ]
    },
    {
      "cell_type": "code",
      "source": [
        "# Libraries for data loading, data viz and EDA\n",
        "import json \n",
        "import numpy as np\n",
        "import pandas as pd\n",
        "import seaborn as sns\n",
        "import matplotlib.pyplot as plt\n",
        "%matplotlib inline"
      ],
      "metadata": {
        "id": "C03StD6gY-IB"
      },
      "execution_count": 56,
      "outputs": []
    },
    {
      "cell_type": "code",
      "source": [
        "# Libraries for text preprocessing and analysis\n",
        "import re,nltk,spacy,string\n",
        "nlp=spacy.load(\"en_core_web_sm\")\n",
        "from sklearn.feature_extraction.text import CountVectorizer, TfidfVectorizer, TfidfTransformer\n",
        "from sklearn.decomposition import NMF\n",
        "from nltk.stem import WordNetLemmatizer\n",
        "from textblob import TextBlob\n",
        "from wordcloud import WordCloud, STOPWORDS"
      ],
      "metadata": {
        "id": "1xp8ExIpZLDR"
      },
      "execution_count": 57,
      "outputs": []
    },
    {
      "cell_type": "code",
      "source": [
        "# Libraries for model evaluation metrics\n",
        "from sklearn.model_selection import train_test_split, GridSearchCV, RandomizedSearchCV\n",
        "from sklearn.metrics import confusion_matrix, f1_score, classification_report"
      ],
      "metadata": {
        "id": "0VeaTSWjZTEg"
      },
      "execution_count": 58,
      "outputs": []
    },
    {
      "cell_type": "code",
      "source": [
        "# Remove warnings\n",
        "import warnings\n",
        "warnings.filterwarnings('ignore')\n",
        "\n",
        "# row/column display limit\n",
        "pd.set_option('display.max_rows',None)\n",
        "pd.set_option('display.max_columns',None)\n",
        "pd.set_option('display.width', None)\n",
        "pd.set_option('display.max_colwidth', None)"
      ],
      "metadata": {
        "id": "e6vlGFvgZahQ"
      },
      "execution_count": 59,
      "outputs": []
    },
    {
      "cell_type": "code",
      "source": [
        "pip install win-unicode-console"
      ],
      "metadata": {
        "colab": {
          "base_uri": "https://localhost:8080/"
        },
        "id": "t8hF6sTw7iQW",
        "outputId": "6dba3d3e-1114-4c45-e413-fbaf6f02808b"
      },
      "execution_count": 60,
      "outputs": [
        {
          "output_type": "stream",
          "name": "stdout",
          "text": [
            "Looking in indexes: https://pypi.org/simple, https://us-python.pkg.dev/colab-wheels/public/simple/\n",
            "Requirement already satisfied: win-unicode-console in /usr/local/lib/python3.8/dist-packages (0.5)\n"
          ]
        }
      ]
    },
    {
      "cell_type": "markdown",
      "source": [
        "##**Loading the data**\n",
        "The data is in JSON format and we need to convert it to a dataframe."
      ],
      "metadata": {
        "id": "15k9nwAEZhh7"
      }
    },
    {
      "cell_type": "code",
      "source": [
        "# Opening JSON file\n",
        "j = open('/content/complaints-2021-05-14_08_16 (1).json',)\n",
        "data = json.load(j)\n",
        "df = pd.json_normalize(data)\n"
      ],
      "metadata": {
        "id": "rXvKCk4fZpGt"
      },
      "execution_count": null,
      "outputs": []
    },
    {
      "cell_type": "markdown",
      "source": [
        "# **DATA PREPARATION**"
      ],
      "metadata": {
        "id": "NKIgJaSnBe_z"
      }
    },
    {
      "cell_type": "code",
      "source": [
        "# Inspect the dataframe to understand the given data.\n",
        "df.head()"
      ],
      "metadata": {
        "id": "-AkK9hUWBbzC"
      },
      "execution_count": null,
      "outputs": []
    },
    {
      "cell_type": "code",
      "source": [
        "#shape of dataframe\n",
        "df.shape"
      ],
      "metadata": {
        "id": "GkD_t5BeBusH"
      },
      "execution_count": null,
      "outputs": []
    },
    {
      "cell_type": "code",
      "source": [
        "#print the column names\n",
        "col_list=list(df.columns)\n",
        "col_list"
      ],
      "metadata": {
        "id": "dFiG2YZVBvun"
      },
      "execution_count": null,
      "outputs": []
    },
    {
      "cell_type": "code",
      "source": [
        "df.info()"
      ],
      "metadata": {
        "id": "3PFfYzQ_ByFX"
      },
      "execution_count": null,
      "outputs": []
    },
    {
      "cell_type": "code",
      "source": [
        "df.describe()"
      ],
      "metadata": {
        "id": "bze21PM2B2CS"
      },
      "execution_count": null,
      "outputs": []
    },
    {
      "cell_type": "code",
      "source": [
        "# Inspect the number of missing values percentage\n",
        "round(df.isna().sum()*100/78313,2)"
      ],
      "metadata": {
        "id": "qKNH2v97B5mr"
      },
      "execution_count": null,
      "outputs": []
    },
    {
      "cell_type": "code",
      "source": [
        "# There are many blank rows in '_source.complaint_what_happened'. Converting them into NaN values\n",
        "df['_source.complaint_what_happened'].replace(\"\", np.nan, inplace=True)"
      ],
      "metadata": {
        "id": "_af6jytwB83T"
      },
      "execution_count": null,
      "outputs": []
    },
    {
      "cell_type": "code",
      "source": [
        "# Inspecting the number of missing values percentage again\n",
        "round(df.isna().sum()*100/78313,2)"
      ],
      "metadata": {
        "id": "he8g-bdrCA9k"
      },
      "execution_count": null,
      "outputs": []
    },
    {
      "cell_type": "code",
      "source": [
        "#Dropping NaN rows from \"_source.complaint_what_happened\"\n",
        "df.dropna(subset=['_source.complaint_what_happened'], inplace=True)\n",
        "\n",
        "#New shape of df\n",
        "df.shape"
      ],
      "metadata": {
        "id": "aQVNVAS3CDz1"
      },
      "execution_count": null,
      "outputs": []
    },
    {
      "cell_type": "code",
      "source": [
        "#Assign new column names\n",
        "#Removing \"_\" from column names\n",
        "df.columns=[re.sub('^_','',col) for col in df.columns]\n",
        "\n",
        "#Removing \"source.\" from column names\n",
        "df.columns = [re.sub(r\"^\\bsource\\b\\.\", \"\", col) for col in df.columns]\n",
        "\n",
        "list(df.columns)"
      ],
      "metadata": {
        "id": "hEfBfSS0CINL"
      },
      "execution_count": null,
      "outputs": []
    },
    {
      "cell_type": "code",
      "source": [
        "df.head()"
      ],
      "metadata": {
        "id": "iKXSqTy1CK0t"
      },
      "execution_count": null,
      "outputs": []
    },
    {
      "cell_type": "markdown",
      "source": [
        "# **Prepare the text for topic modeling**\n",
        "Once you have removed all the blank complaints, you need to:\n",
        "\n",
        "Make the text lowercase\n",
        "Remove text in square brackets\n",
        "Remove punctuation\n",
        "Remove words containing numbers\n",
        "Once you have done these cleaning operations you need to perform the following:\n",
        "\n",
        "Lemmatize the texts\n",
        "Use POS tags to get relevant words from the texts."
      ],
      "metadata": {
        "id": "yqdr0HZKCT79"
      }
    },
    {
      "cell_type": "code",
      "source": [
        "# Write your function here to clean the text and remove all the unnecessary elements.\n",
        "def clean_texts(text):\n",
        "    #Make the text lowercase\n",
        "    text=text.lower()\n",
        "    \n",
        "    #Remove text in square brackets\n",
        "    text=re.sub(r'\\[.*?\\]','',text)\n",
        "    \n",
        "    #Remove punctuation\n",
        "    text=re.sub(r'[%s]%re.escape(string.punctuation)','',text)\n",
        "    \n",
        "    #Remove words containing numbers\n",
        "    text = re.sub(r'\\w*\\d\\w*', '', text)\n",
        "    \n",
        "    return text"
      ],
      "metadata": {
        "id": "jWifftUxCPNx"
      },
      "execution_count": null,
      "outputs": []
    },
    {
      "cell_type": "code",
      "source": [
        "#Cleaning df['complaint_what_happened']\n",
        "df['complaint_what_happened']= df['complaint_what_happened'].apply(lambda x: clean_texts(x))"
      ],
      "metadata": {
        "id": "XMU8ySTwCfy-"
      },
      "execution_count": null,
      "outputs": []
    },
    {
      "cell_type": "code",
      "source": [
        "#Write your function to Lemmatize the texts\n",
        "def lemma_texts(text):     \n",
        "        \n",
        "    # Initialize empty list to store lemmas\n",
        "    lemma_list = []\n",
        "    \n",
        "    # Extract lemmas of given text and add to the list 'sent'\n",
        "    document = nlp(text)\n",
        "    for word in document:\n",
        "        lemma_list.append(word.lemma_)\n",
        "        \n",
        "    # return string converted form of the list of lemmas\n",
        "    return \" \".join(lemma_list)"
      ],
      "metadata": {
        "id": "zVcmw-4WCi2k"
      },
      "execution_count": null,
      "outputs": []
    },
    {
      "cell_type": "code",
      "source": [
        "# Add a column for lemmatized complaints to the dataframe\n",
        "df[\"lemmatized_complaint\"] =  df.apply(lambda x: lemma_texts(x['complaint_what_happened']), axis=1)\n",
        "\n",
        "# View the dataframe\n",
        "df.head()"
      ],
      "metadata": {
        "id": "7dQSZ3LJCmNV"
      },
      "execution_count": null,
      "outputs": []
    },
    {
      "cell_type": "code",
      "source": [
        "#Create a dataframe('df_clean') that will have only the complaints and the lemmatized complaints \n",
        "df_clean=df[['complaint_what_happened','lemmatized_complaint']]"
      ],
      "metadata": {
        "id": "4_xfUd-dCp8P"
      },
      "execution_count": null,
      "outputs": []
    },
    {
      "cell_type": "code",
      "source": [
        "df_clean.head()"
      ],
      "metadata": {
        "id": "gjzUOo-TCt7A"
      },
      "execution_count": null,
      "outputs": []
    },
    {
      "cell_type": "markdown",
      "source": [
        "## **To find the topics of the complaints, we only need singular nouns.**"
      ],
      "metadata": {
        "id": "YTiehu94C0tC"
      }
    },
    {
      "cell_type": "code",
      "source": [
        "#Write your function to extract the POS tags \n",
        "\n",
        "# Extracting singular nouns\n",
        "def singular_nouns(text):\n",
        "   \n",
        "    \n",
        "    # Creating a textblob object\n",
        "    text_blob = TextBlob(text)\n",
        "    \n",
        "    # extracting words with tags 'NN', joining them and return\n",
        "    return ' '.join([ word for (word,tag) in text_blob.tags if tag == \"NN\"])\n"
      ],
      "metadata": {
        "id": "SwHovKchCwMl"
      },
      "execution_count": null,
      "outputs": []
    },
    {
      "cell_type": "code",
      "source": [
        "# Applying the function to create a new column containing only singular nouns \n",
        "df_clean[\"complaint_POS_removed\"] =  df_clean.apply(lambda x: singular_nouns(x['lemmatized_complaint']), axis=1)\n",
        "\n",
        "# View the dataframe\n",
        "df_clean.head()"
      ],
      "metadata": {
        "id": "4Pr_4L-pC_Fe"
      },
      "execution_count": null,
      "outputs": []
    },
    {
      "cell_type": "markdown",
      "source": [
        "# **Exploratory data analysis to get familiar with the data.**\n",
        "Write the code in this task to perform the following:\n",
        "\n",
        "Visualise the data according to the 'Complaint' character length\n",
        "Using a word cloud find the top 40 words by frequency among all the articles after processing the text\n",
        "Find the top unigrams,bigrams and trigrams by frequency among all the complaints after processing the text. ‘"
      ],
      "metadata": {
        "id": "nhXU9MiMDGFq"
      }
    },
    {
      "cell_type": "code",
      "source": [
        "#lenght of character in 'complaint_POS_removed'\n",
        "char_len=[len(x) for x in df_clean['complaint_POS_removed']]\n",
        "char_len[:10]"
      ],
      "metadata": {
        "id": "0Uv9QiRVDP9J"
      },
      "execution_count": null,
      "outputs": []
    },
    {
      "cell_type": "code",
      "source": [
        "## Write your code here to visualise the data according to the 'Complaint' character length\n",
        "plt.figure(figsize=[10,6])\n",
        "sns.histplot(data = char_len,bins=50)\n",
        "plt.title('Distribution of Complaint Character Length', fontsize=25)\n",
        "plt.xlabel('Complaint Character Length',size=20)\n",
        "plt.ylabel('No. of Complaints',size=20)"
      ],
      "metadata": {
        "id": "9bts-v45DUdC"
      },
      "execution_count": null,
      "outputs": []
    },
    {
      "cell_type": "markdown",
      "source": [
        "**Find the top 40 words by frequency among all the articles after processing the text.**"
      ],
      "metadata": {
        "id": "TqaLS3tLDd3J"
      }
    },
    {
      "cell_type": "code",
      "source": [
        "#Using a word cloud find the top 40 words by frequency among all the articles after processing the text\n",
        "stop_words = set(STOPWORDS)\n",
        "word_cloud = WordCloud(\n",
        "                          background_color='blue',\n",
        "                          stopwords=stop_words,\n",
        "                          max_font_size=38,\n",
        "                          max_words=38, \n",
        "                          random_state=42\n",
        "                         ).generate(str(df_clean['complaint_POS_removed']))\n",
        "\n",
        "fig = plt.figure(figsize=(20,16))\n",
        "plt.imshow(word_cloud)\n",
        "plt.axis('off')\n",
        "plt.show()"
      ],
      "metadata": {
        "id": "Ky-omBguDYCL"
      },
      "execution_count": null,
      "outputs": []
    },
    {
      "cell_type": "code",
      "source": [
        "#Find the top unigrams,bigrams and trigrams by frequency among all the complaints after processing the text."
      ],
      "metadata": {
        "id": "viDcDOnwDldt"
      },
      "execution_count": null,
      "outputs": []
    },
    {
      "cell_type": "code",
      "source": [
        "#Write your code here to find the top 30 unigram frequency among the complaints in the cleaned datafram(df_clean). \n",
        "\n",
        "def get_top_unigram(text, n=30):\n",
        "\n",
        "    vector = CountVectorizer(stop_words='english').fit(text)\n",
        "    bag_of_words = vector.transform(text)\n",
        "    sum_of_words = bag_of_words.sum(axis=0) \n",
        "    word_freq = [(word, sum_of_words[0, idx]) for word, idx in vector.vocabulary_.items()]\n",
        "    word_freq =sorted(word_freq, key = lambda x: x[1], reverse=True)\n",
        "    return word_freq[:n]"
      ],
      "metadata": {
        "id": "Crq2p_gCEbMp"
      },
      "execution_count": null,
      "outputs": []
    },
    {
      "cell_type": "code",
      "source": [
        "#Print the top 10 words in the unigram frequency\n",
        "top_common_words = get_top_unigram(df_clean['complaint_POS_removed'].values.astype('U'))\n",
        "df_unigram = pd.DataFrame(top_common_words, columns = ['unigram' , 'count'])\n",
        "df_unigram.head(10)"
      ],
      "metadata": {
        "id": "_1yTt7mPEd2d"
      },
      "execution_count": null,
      "outputs": []
    },
    {
      "cell_type": "code",
      "source": [
        "# Plot the top 30 unigrams\n",
        "plt.figure(figsize=(15,6))\n",
        "sns.barplot(x='unigram', y='count', data=df_unigram, palette=\"Blues_d\")\n",
        "plt.xticks(rotation=90)\n",
        "plt.title(\"Top 30 unigrams in the Complaint text after removing stop words and lemmatization\", fontsize=20)\n",
        "plt.show()"
      ],
      "metadata": {
        "id": "dxOuGQ1BEgGQ"
      },
      "execution_count": null,
      "outputs": []
    },
    {
      "cell_type": "code",
      "source": [
        "#Write your code here to find the top 30 bigram frequency among the complaints in the cleaned datafram(df_clean). \n",
        "def get_top_bigram(text, n=30):\n",
        "\n",
        "    vector = CountVectorizer(ngram_range=(2, 2), stop_words='english').fit(text)\n",
        "    bag_of_words = vector.transform(text)\n",
        "    sum_of_words = bag_of_words.sum(axis=0) \n",
        "    word_freq = [(word, sum_of_words[0, idx]) for word, idx in vector.vocabulary_.items()]\n",
        "    word_freq =sorted(word_freq, key = lambda x: x[1], reverse=True)\n",
        "    return word_freq[:n]"
      ],
      "metadata": {
        "id": "w6JYv2HkEjwZ"
      },
      "execution_count": null,
      "outputs": []
    },
    {
      "cell_type": "code",
      "source": [
        "#Print the top 10 words in the bigram frequency\n",
        "top_common_words = get_top_bigram(df_clean['complaint_POS_removed'].values.astype('U'))\n",
        "df_bigram = pd.DataFrame(top_common_words, columns = ['bigram' , 'count'])\n",
        "df_bigram.head(10)"
      ],
      "metadata": {
        "id": "BuPUPMi9Enm_"
      },
      "execution_count": null,
      "outputs": []
    },
    {
      "cell_type": "code",
      "source": [
        "# Plot the top 30 unigrams\n",
        "plt.figure(figsize=(15,6))\n",
        "sns.barplot(x='bigram', y='count', data=df_bigram, palette=\"Blues_d\")\n",
        "plt.xticks(rotation=90)\n",
        "plt.title(\"Top 30 bigrams in the Complaint text after removing stop words and lemmatization\", fontsize=20)\n",
        "plt.show()# Plot the top 30 unigrams\n",
        "plt.figure(figsize=(15,6))\n",
        "sns.barplot(x='bigram', y='count', data=df_bigram, palette=\"Blues_d\")\n",
        "plt.xticks(rotation=90)\n",
        "plt.title(\"Top 30 bigrams in the Complaint text after removing stop words and lemmatization\", fontsize=20)\n",
        "plt.show()"
      ],
      "metadata": {
        "id": "7gL_IfmYErvk"
      },
      "execution_count": null,
      "outputs": []
    },
    {
      "cell_type": "code",
      "source": [
        "#Write your code here to find the top 30 trigram frequency among the complaints in the cleaned datafram(df_clean). \n",
        "def get_top_trigram(text, n=30):\n",
        "\n",
        "    vector = CountVectorizer(ngram_range=(3, 3), stop_words='english').fit(text)\n",
        "    bag_of_words = vector.transform(text)\n",
        "    sum_of_words = bag_of_words.sum(axis=0) \n",
        "    word_freq = [(word, sum_of_words[0, idx]) for word, idx in vector.vocabulary_.items()]\n",
        "    word_freq =sorted(word_freq, key = lambda x: x[1], reverse=True)\n",
        "    return word_freq[:n]"
      ],
      "metadata": {
        "id": "4nzdmjdWE0DX"
      },
      "execution_count": null,
      "outputs": []
    },
    {
      "cell_type": "code",
      "source": [
        "#Print the top 10 words in the trigram frequency\n",
        "top_common_words = get_top_trigram(df_clean['complaint_POS_removed'].values.astype('U'))\n",
        "df_trigram = pd.DataFrame(top_common_words, columns = ['trigram' , 'count'])\n",
        "df_trigram.head(10)"
      ],
      "metadata": {
        "id": "0feLF0vLE34q"
      },
      "execution_count": null,
      "outputs": []
    },
    {
      "cell_type": "code",
      "source": [
        "# Plot the top 30 unigrams\n",
        "plt.figure(figsize=(15,6))\n",
        "sns.barplot(x='trigram', y='count', data=df_trigram, palette=\"Blues_d\")\n",
        "plt.xticks(rotation=90)\n",
        "plt.title(\"Top 30 trigrams in the Complaint text after removing stop words and lemmatization\", fontsize=20)\n",
        "plt.show()"
      ],
      "metadata": {
        "id": "o44J9OmSE7yu"
      },
      "execution_count": null,
      "outputs": []
    },
    {
      "cell_type": "markdown",
      "source": [
        "**The personal details of customer has been masked in the dataset with xxxx. Let's remove the masked text as this will be of no use for our analysis**"
      ],
      "metadata": {
        "id": "glAGvT-eFJ_R"
      }
    },
    {
      "cell_type": "code",
      "source": [
        "df_clean['complaint_POS_removed'] = df_clean['complaint_POS_removed'].str.replace('xxxx','')"
      ],
      "metadata": {
        "id": "P375mEdmFHV4"
      },
      "execution_count": null,
      "outputs": []
    },
    {
      "cell_type": "code",
      "source": [
        "#All masked texts has been removed\n",
        "df_clean.head()"
      ],
      "metadata": {
        "id": "VE6VXJzUFWsu"
      },
      "execution_count": null,
      "outputs": []
    },
    {
      "cell_type": "markdown",
      "source": [
        "# **Feature Extraction**\n",
        "Convert the raw texts to a matrix of TF-IDF features\n",
        "\n",
        "max_df is used for removing terms that appear too frequently, also known as \"corpus-specific stop words\" max_df = 0.95 means \"ignore terms that appear in more than 95% of the complaints\"\n",
        "\n",
        "min_df is used for removing terms that appear too infrequently min_df = 2 means \"ignore terms that appear in less than 2 complaints\""
      ],
      "metadata": {
        "id": "2B2N5bBUFfC5"
      }
    },
    {
      "cell_type": "code",
      "source": [
        "# Making a copy of df_clean\n",
        "df_cleaner=df_clean.copy()"
      ],
      "metadata": {
        "id": "yk9y2ckUFZPF"
      },
      "execution_count": null,
      "outputs": []
    },
    {
      "cell_type": "code",
      "source": [
        "df_clean=df_cleaner.copy()"
      ],
      "metadata": {
        "id": "oP357IzaFlc_"
      },
      "execution_count": null,
      "outputs": []
    },
    {
      "cell_type": "code",
      "source": [
        "#Write your code here to initialise the TfidfVectorizer \n",
        "\n",
        "tfidf=TfidfVectorizer(max_df=0.95,min_df=2,stop_words='english')"
      ],
      "metadata": {
        "id": "vTxV93SiFnhl"
      },
      "execution_count": null,
      "outputs": []
    },
    {
      "cell_type": "markdown",
      "source": [
        "# **Create a document term matrix using fit_transform**\n",
        "The contents of a document term matrix are tuples of (complaint_id,token_id) tf-idf score: The tuples that are not there have a tf-idf score of 0"
      ],
      "metadata": {
        "id": "7V2K8sS2FqqU"
      }
    },
    {
      "cell_type": "code",
      "source": [
        "#Write your code here to create the Document Term Matrix by transforming the complaints column present in df_clean.\n",
        "dtm=tfidf.fit_transform(df_clean['complaint_POS_removed'])"
      ],
      "metadata": {
        "id": "Tz76q4cnFvKU"
      },
      "execution_count": null,
      "outputs": []
    },
    {
      "cell_type": "markdown",
      "source": [
        "# **Topic Modelling using NMF**\n",
        "Non-Negative Matrix Factorization (NMF) is an unsupervised technique so there are no labeling of topics that the model will be trained on. The way it works is that, NMF decomposes (or factorizes) high-dimensional vectors into a lower-dimensional representation. These lower-dimensional vectors are non-negative which also means their coefficients are non-negative.\n",
        "\n",
        "In this task you have to perform the following:\n",
        "\n",
        "Find the best number of clusters\n",
        "Apply the best number to create word clusters\n",
        "Inspect & validate the correction of each cluster wrt the complaints\n",
        "Correct the labels if needed\n",
        "Map the clusters to topics/cluster names"
      ],
      "metadata": {
        "id": "2srVugQfFziq"
      }
    },
    {
      "cell_type": "code",
      "source": [
        "from sklearn.decomposition import NMF"
      ],
      "metadata": {
        "id": "c4fZnbtiF3mK"
      },
      "execution_count": null,
      "outputs": []
    },
    {
      "cell_type": "code",
      "source": [],
      "metadata": {
        "id": "j7M_JkkBF64b"
      },
      "execution_count": null,
      "outputs": []
    },
    {
      "cell_type": "markdown",
      "source": [
        "# **Manual Topic Modeling**\n",
        "You need to do take the trial & error approach to find the best num of topics for your NMF model.\n",
        "\n",
        "The only parameter that is required is the number of components i.e. the number of topics we want. This is the most crucial step in the whole topic modeling process and will greatly affect how good your final topics are.\n",
        "\n",
        "***Using Coherence Model to select best number of Topics.***"
      ],
      "metadata": {
        "id": "vKft5QubGAUO"
      }
    },
    {
      "cell_type": "code",
      "source": [
        "#Coherence model to find best number of topics\n",
        "from gensim.corpora.dictionary import Dictionary\n",
        "from gensim.models.nmf import Nmf\n",
        "from gensim.models.coherencemodel import CoherenceModel\n",
        "from operator import itemgetter\n",
        "\n",
        "# Use Gensim's NMF to get the best num of topics via coherence score\n",
        "texts = df_clean['complaint_POS_removed']\n",
        "data_set = [x.split() for x in texts]\n",
        "\n",
        "# Creating a dictionary\n",
        "# In gensim a dictionary is a mapping between words and their integer id\n",
        "dictionary = Dictionary(data_set)\n",
        "\n",
        "# Filter out extremes to limit the number of features\n",
        "dictionary.filter_extremes(\n",
        "    no_below=3,\n",
        "    no_above=0.85,\n",
        "    keep_n=5000\n",
        ")\n",
        "\n",
        "# Creating the bag-of-words format (list of (token_id, token_count))\n",
        "corpus = [dictionary.doc2bow(text) for text in data_set]\n",
        "\n",
        "# Create a list of the topic numbers we want to try\n",
        "topic_num = list(np.arange(5, 10, 1))\n",
        "# Run the nmf model and calculate the coherence score\n",
        "# for each number of topics\n",
        "coherence_scores = []\n",
        "\n",
        "for num in topic_num:\n",
        "    nmf = Nmf(\n",
        "        corpus=corpus,\n",
        "        num_topics=num,\n",
        "        id2word=dictionary,\n",
        "        chunksize=2000,\n",
        "        passes=5,\n",
        "        kappa=.1,\n",
        "        minimum_probability=0.01,\n",
        "        w_max_iter=300,\n",
        "        w_stop_condition=0.0001,\n",
        "        h_max_iter=100,\n",
        "        h_stop_condition=0.001,\n",
        "        eval_every=10,\n",
        "        normalize=True,\n",
        "        random_state=40\n",
        "    )\n",
        "    \n",
        "    # Run the coherence model to get the score\n",
        "    coherence_model = CoherenceModel(\n",
        "        model=nmf,\n",
        "        texts=texts,\n",
        "        dictionary=dictionary,\n",
        "        coherence='c_v'\n",
        "    )\n",
        "    \n",
        "    coherence_scores.append(round(coherence_model.get_coherence(), 5))\n",
        "\n",
        "# Get the number of topics with the highest coherence score\n",
        "scores = list(zip(topic_num, coherence_scores))\n",
        "best_topics_num = sorted(scores, key=itemgetter(1), reverse=True)[0][0]\n",
        "\n",
        "print(best_topics_num)"
      ],
      "metadata": {
        "id": "M1-ioVt0GFvu"
      },
      "execution_count": null,
      "outputs": []
    },
    {
      "cell_type": "code",
      "source": [
        "df_clean.shape"
      ],
      "metadata": {
        "id": "vap-UKh8GUUj"
      },
      "execution_count": null,
      "outputs": []
    },
    {
      "cell_type": "code",
      "source": [
        "# Making a copy of df_clean incase any error occurs\n",
        "df_cleanx =df_clean.copy()"
      ],
      "metadata": {
        "id": "SSIw_837GWXe"
      },
      "execution_count": null,
      "outputs": []
    },
    {
      "cell_type": "code",
      "source": [
        "#Load your nmf_model with the n_components i.e 5\n",
        "\n",
        "nmf_model = NMF(n_components=5,random_state=40)"
      ],
      "metadata": {
        "id": "2YRvlYV5GYmZ"
      },
      "execution_count": null,
      "outputs": []
    },
    {
      "cell_type": "code",
      "source": [
        "nmf_model.fit(dtm)\n",
        "len(tfidf.get_feature_names())"
      ],
      "metadata": {
        "id": "bSwXSB5HGbxZ"
      },
      "execution_count": null,
      "outputs": []
    },
    {
      "cell_type": "code",
      "source": [
        "# Print the top word of a sample component\n",
        "topic_single = nmf_model.components_[0]\n",
        "topic_single.argsort()\n",
        "top_word_index = topic_single.argsort()[-10:]\n",
        "for index in top_word_index:\n",
        "    print(tfidf.get_feature_names()[index])"
      ],
      "metadata": {
        "id": "R9fC_Di-GeBF"
      },
      "execution_count": null,
      "outputs": []
    },
    {
      "cell_type": "code",
      "source": [
        "#Print the Top15 words for each of the topics\n",
        "for index, topic in enumerate(nmf_model.components_):\n",
        "    print(f'TOP 15 WORDS FOR TOPIC #{index}')\n",
        "    print([tfidf.get_feature_names()[i] for i in topic.argsort()[-15:]])\n",
        "    print('\\n')"
      ],
      "metadata": {
        "id": "DKyfNNuXGhNN"
      },
      "execution_count": null,
      "outputs": []
    },
    {
      "cell_type": "code",
      "source": [
        "#Create the best topic for each complaint in terms of integer value 0,1,2,3 & 4\n",
        "\n",
        "topic_result = nmf_model.transform(dtm)\n",
        "topic_result[0].round(2)\n",
        "topic_result[0].argmax()\n",
        "topic_result.argmax(axis=1)"
      ],
      "metadata": {
        "id": "2z01f8xEGkYY"
      },
      "execution_count": null,
      "outputs": []
    },
    {
      "cell_type": "code",
      "source": [
        "# Create a new 'Topic' column and assign the best topic to each of the complaints\n",
        "\n",
        "df_clean['Topic'] = topic_result.argmax(axis=1)"
      ],
      "metadata": {
        "id": "0-DxT7-tGrc-"
      },
      "execution_count": null,
      "outputs": []
    },
    {
      "cell_type": "code",
      "source": [
        "df_clean.shape"
      ],
      "metadata": {
        "id": "udkNktXBGr_D"
      },
      "execution_count": null,
      "outputs": []
    },
    {
      "cell_type": "code",
      "source": [
        "df_clean.head()"
      ],
      "metadata": {
        "id": "GlqUJXc3GuRQ"
      },
      "execution_count": null,
      "outputs": []
    },
    {
      "cell_type": "code",
      "source": [
        "#Print the first 5 Complaint for each of the Topics\n",
        "df_clean_5=df_clean.groupby('Topic').head(5)\n",
        "df_clean_5.sort_values('Topic')"
      ],
      "metadata": {
        "id": "dh3s77khGxbO"
      },
      "execution_count": null,
      "outputs": []
    },
    {
      "cell_type": "code",
      "source": [
        "df_clean.shape"
      ],
      "metadata": {
        "id": "mU5Gzg6aG0-A"
      },
      "execution_count": null,
      "outputs": []
    },
    {
      "cell_type": "code",
      "source": [
        "df_clean.replace({'Topic':{0:\"Bank Account services\",\n",
        "               1:\"Credit card or prepaid card\", \n",
        "               2:\"Others\",\n",
        "               3:\"Theft/Dispute Reporting\",\n",
        "               4:\"Mortgage/Loan\"}},inplace=True)\n",
        "\n",
        "df_clean.head()"
      ],
      "metadata": {
        "id": "3nA6TtnXG4zW"
      },
      "execution_count": null,
      "outputs": []
    },
    {
      "cell_type": "code",
      "source": [
        "df_clean.shape"
      ],
      "metadata": {
        "id": "Q0L3tECBG7ok"
      },
      "execution_count": null,
      "outputs": []
    },
    {
      "cell_type": "code",
      "source": [
        "df_clean.head()\n"
      ],
      "metadata": {
        "id": "9CRxIv7RG-5_"
      },
      "execution_count": null,
      "outputs": []
    },
    {
      "cell_type": "code",
      "source": [
        "df_clean.shape"
      ],
      "metadata": {
        "id": "OewtfZKpHElY"
      },
      "execution_count": null,
      "outputs": []
    },
    {
      "cell_type": "code",
      "source": [
        "# Create the dictionary again of Topic names and Topic numbers and replace\n",
        "\n",
        "df_clean.replace({'Topic':{\"Bank Account services\":0,\n",
        "               \"Credit card or prepaid card\":1,\n",
        "               \"Others\":2,\n",
        "               \"Theft/Dispute Reporting\":3,\n",
        "               \"Mortgage/Loan\":4}},inplace=True)\n",
        "\n",
        "df_clean.head()\n"
      ],
      "metadata": {
        "id": "CIa3I0o1HFNA"
      },
      "execution_count": null,
      "outputs": []
    },
    {
      "cell_type": "code",
      "source": [
        "df_clean.shape"
      ],
      "metadata": {
        "id": "wPHlX-i1HHk8"
      },
      "execution_count": null,
      "outputs": []
    },
    {
      "cell_type": "code",
      "source": [
        "training_data.shape"
      ],
      "metadata": {
        "id": "HSz38bXMHLM7"
      },
      "execution_count": null,
      "outputs": []
    },
    {
      "cell_type": "code",
      "source": [
        "training_data.head()"
      ],
      "metadata": {
        "id": "5Doiu_WwHNZs"
      },
      "execution_count": null,
      "outputs": []
    },
    {
      "cell_type": "code",
      "source": [
        "# View value counts of the five topics\n",
        "training_data['Topic'].value_counts()"
      ],
      "metadata": {
        "id": "47l4dvLgHPph"
      },
      "execution_count": null,
      "outputs": []
    },
    {
      "cell_type": "code",
      "source": [
        "# Plotting a histogram of topics\n",
        "plt.figure(figsize=[10,6])\n",
        "sns.histplot(data=training_data, x='Topic',color='Green', )\n",
        "plt.title(\"Distribution of Topics\", fontsize=25)\n",
        "plt.show()"
      ],
      "metadata": {
        "id": "-s6P59r7HS1R"
      },
      "execution_count": null,
      "outputs": []
    },
    {
      "cell_type": "markdown",
      "source": [
        "# **Apply the supervised models on the training data created. In this process, you have to do the following:**\n",
        "Create the vector counts using Count Vectoriser\n",
        "Transform the word vector to tf-idf\n",
        "Create the train & test data using the train_test_split on the tf-idf & topics"
      ],
      "metadata": {
        "id": "iXSZneUxHbcb"
      }
    },
    {
      "cell_type": "code",
      "source": [
        "#Write your code to get the Vector count\n",
        "count_vector=CountVectorizer()\n",
        "\n",
        "#Write your code here to transform the word vector to tf-idf\n",
        "X_train_count=count_vector.fit_transform(training_data['complaint_what_happened'])"
      ],
      "metadata": {
        "id": "WoQGYb8YHVc9"
      },
      "execution_count": null,
      "outputs": []
    },
    {
      "cell_type": "code",
      "source": [
        "# Saving Word Vector on disk for later usage\n",
        "import pickle\n",
        "\n",
        "pickle.dump(count_vector.vocabulary_, open(\"count_vector.pkl\",\"wb\"))"
      ],
      "metadata": {
        "id": "No689BNyHhsd"
      },
      "execution_count": null,
      "outputs": []
    },
    {
      "cell_type": "code",
      "source": [
        "# Transform the word vector to tf-idf\n",
        "tfidf_transform= TfidfTransformer()\n",
        "X_train_tfidf = tfidf_transform.fit_transform(X_train_count)"
      ],
      "metadata": {
        "id": "YMNVCo7pHkfD"
      },
      "execution_count": null,
      "outputs": []
    },
    {
      "cell_type": "code",
      "source": [
        "# Save TF-IDF on disk for later usage\n",
        "pickle.dump(tfidf_transform, open(\"tfidf.pkl\",\"wb\"))"
      ],
      "metadata": {
        "id": "KTVff0SCHnz3"
      },
      "execution_count": null,
      "outputs": []
    },
    {
      "cell_type": "code",
      "source": [
        "# Train-Test split\n",
        "X_train, X_test, y_train, y_test = train_test_split(X_train_tfidf, training_data.Topic, test_size=0.25, random_state=42)\n",
        "\n",
        "print(f\"X_train Shape: {X_train.shape}\")\n",
        "print(f\"y_train Shape: {y_train.shape}\")\n",
        "print(f\"X_test Shape: {X_test.shape}\")\n",
        "print(f\"y_test Shape: {y_test.shape}\")"
      ],
      "metadata": {
        "id": "jDa3p0J2HrpY"
      },
      "execution_count": null,
      "outputs": []
    },
    {
      "cell_type": "markdown",
      "source": [
        "**You have to try atleast 3 models on the train & test data from these options:**\n",
        "\n",
        "Logistic regression\n",
        "Decision Tree\n",
        "Random Forest\n",
        "Naive Bayes (optional)\n",
        "Using the required evaluation metrics judge the tried models and select the ones performing the best"
      ],
      "metadata": {
        "id": "jhDavcDCHyjj"
      }
    },
    {
      "cell_type": "code",
      "source": [
        " Create a function to evaluate models\n",
        "def model_eval(y_test, y_pred, model_name):\n",
        "    \n",
        "    # print classification report of classifier\n",
        "    print(f\"CLASSIFICATION REPORT for {model_name}\\n\")\n",
        "    print(classification_report(y_test, y_pred, target_names=[\"Bank Account services\", \"Credit card or prepaid card\", \"Others\", \"Theft/Dispute Reporting\",\n",
        "\"Mortgage/Loan\"]))\n",
        "    \n",
        "    # plot confusion matrix of the classifier\n",
        "    plt.figure(figsize=(10,7))\n",
        "    plt.title(f\"CONFUSION MATRIX for {model_name}\\n\")\n",
        "    matrix = confusion_matrix(y_test, y_pred)\n",
        "    sns.heatmap(matrix, annot=True, cbar=None, cmap=\"Greens\", fmt='d', xticklabels=[\"Bank Account services\", \"Credit card or prepaid card\", \"Others\", \"Theft/Dispute Reporting\",\n",
        "\"Mortgage/Loan\"], yticklabels=[\"Bank Account services\", \"Credit card or prepaid card\", \"Others\", \"Theft/Dispute Reporting\",\n",
        "\"Mortgage/Loan\"])\n",
        "    plt.show()\n",
        "    \n",
        "    return"
      ],
      "metadata": {
        "id": "33CVavu3H1Zp"
      },
      "execution_count": null,
      "outputs": []
    },
    {
      "cell_type": "markdown",
      "source": [
        "## **Model:1 - Naive-Bayes**"
      ],
      "metadata": {
        "id": "w30vyPuqH8Ki"
      }
    },
    {
      "cell_type": "code",
      "source": [
        "# Import required library\n",
        "from sklearn.naive_bayes import MultinomialNB"
      ],
      "metadata": {
        "id": "tYCXCBOrH5MU"
      },
      "execution_count": null,
      "outputs": []
    },
    {
      "cell_type": "code",
      "source": [
        "# Run the Multinomial Naive Bayes with default parameters\n",
        "model_name = 'NAIVE BAYES'\n",
        "nb = MultinomialNB()\n",
        "nb.fit(X_train, y_train)\n",
        "y_pred_nb = nb.predict(X_test)"
      ],
      "metadata": {
        "id": "-x_jUzMQHuAW"
      },
      "execution_count": null,
      "outputs": []
    },
    {
      "cell_type": "code",
      "source": [
        "# Hyperparameter tuning for best result\n",
        "param_nb = {\n",
        "    'alpha': (1, 0.1, 0.01, 0.001, 0.0001, 0.00001),\n",
        "    'fit_prior':[True, False]\n",
        "}\n",
        "\n",
        "grid_nb = GridSearchCV(estimator=nb, \n",
        "                       param_grid=param_nb,\n",
        "                       verbose=1,\n",
        "                       scoring='f1_weighted',\n",
        "                       n_jobs=-1,\n",
        "                       cv=10)\n",
        "grid_nb.fit(X_train, y_train)\n",
        "print(grid_nb.best_params_)"
      ],
      "metadata": {
        "id": "IXWczHBcIFLa"
      },
      "execution_count": null,
      "outputs": []
    },
    {
      "cell_type": "code",
      "source": [
        "# Creating model with best hyperparameter\n",
        "model_name = 'NAIVE BAYES'\n",
        "nb_tuned = MultinomialNB(alpha=0.1,fit_prior=False)\n",
        "nb_tuned.fit(X_train, y_train)\n",
        "y_pred_nb_tuned = nb_tuned.predict(X_test)"
      ],
      "metadata": {
        "id": "TvnuRs1kIJHF"
      },
      "execution_count": null,
      "outputs": []
    },
    {
      "cell_type": "code",
      "source": [
        "# Calculate F1 Score of model using weighted average method\n",
        "f1_nb = f1_score(y_test, y_pred_nb_tuned, average=\"weighted\")\n",
        "f1_nb"
      ],
      "metadata": {
        "id": "7nizAZidILqG"
      },
      "execution_count": null,
      "outputs": []
    },
    {
      "cell_type": "code",
      "source": [
        "# Evaluate the Naive Bayes classifier\n",
        "model_eval(y_test, y_pred_nb_tuned, model_name)"
      ],
      "metadata": {
        "id": "fvg-VwGcIOn4"
      },
      "execution_count": null,
      "outputs": []
    },
    {
      "cell_type": "code",
      "source": [
        "# Create a dataframe to store F1 Scores of all models we will build\n",
        "f1_summary = pd.DataFrame([{'Model': 'Naive Bayes','F1 Score': round(f1_nb, 2)}])\n",
        "f1_summary"
      ],
      "metadata": {
        "id": "yEcGT96PIUsI"
      },
      "execution_count": null,
      "outputs": []
    },
    {
      "cell_type": "markdown",
      "source": [
        "# **Model:2 - Logistic Regression**"
      ],
      "metadata": {
        "id": "9Mb9jmaYIVkq"
      }
    },
    {
      "cell_type": "code",
      "source": [
        "# Import required library\n",
        "from sklearn.linear_model import LogisticRegression"
      ],
      "metadata": {
        "id": "6k8Lq_K8Iaze"
      },
      "execution_count": null,
      "outputs": []
    },
    {
      "cell_type": "code",
      "source": [
        "# Run the Logistic Regression model with default parameters\n",
        "model_name = 'LOGISTIC REGRESSION'\n",
        "lr = LogisticRegression() \n",
        "lr.fit(X_train, y_train)\n",
        "y_pred_lr = lr.predict(X_test)"
      ],
      "metadata": {
        "id": "BF0tfDudIdRM"
      },
      "execution_count": null,
      "outputs": []
    },
    {
      "cell_type": "code",
      "source": [
        "# Hyperparameter tuning for best result\n",
        "param_lr = {\n",
        "    'penalty': ['l1', 'l2'],\n",
        "    'C': [0.001,0.01,0.1,1,10,100],\n",
        "    'solver':['newton-cg', 'lbfgs', 'liblinear', 'sag', 'saga']\n",
        "}\n",
        "\n",
        "grid_lr = GridSearchCV(estimator=lr, \n",
        "                       param_grid=param_lr,\n",
        "                       verbose=1,\n",
        "                       scoring='f1_weighted',\n",
        "                       n_jobs=-1,\n",
        "                       cv=5)\n",
        "grid_lr.fit(X_train, y_train)\n",
        "print(grid_lr.best_params_)"
      ],
      "metadata": {
        "id": "LNRheGvSIgfI"
      },
      "execution_count": null,
      "outputs": []
    },
    {
      "cell_type": "code",
      "source": [
        "# Creating model with best hyperparameter\n",
        "lr_tuned = LogisticRegression(C=1, \n",
        "                                  penalty='l1', \n",
        "                                  solver='saga')\n",
        "\n",
        "lr_tuned.fit(X_train, y_train)\n",
        "y_pred_lr_tuned = lr_tuned.predict(X_test)"
      ],
      "metadata": {
        "id": "8TkC9OJFIkF3"
      },
      "execution_count": null,
      "outputs": []
    },
    {
      "cell_type": "code",
      "source": [
        "# Calculate F1 Score of tuned model using weighted average method\n",
        "f1_lr = f1_score(y_test, y_pred_lr_tuned, average=\"weighted\")\n",
        "f1_lr"
      ],
      "metadata": {
        "id": "P32J_BBoInP8"
      },
      "execution_count": null,
      "outputs": []
    },
    {
      "cell_type": "code",
      "source": [
        "# Evaluate the tuned Logistic Regression classifier\n",
        "model_eval(y_test, y_pred_lr_tuned, model_name)"
      ],
      "metadata": {
        "id": "Zvq2beKqIprB"
      },
      "execution_count": null,
      "outputs": []
    },
    {
      "cell_type": "code",
      "source": [
        "# Update the summary table\n",
        "f1_summary.loc[len(f1_summary.index)] = ['Logistic Regression', round(f1_lr, 2)]\n",
        "f1_summary"
      ],
      "metadata": {
        "id": "XU2eeIlzIr54"
      },
      "execution_count": null,
      "outputs": []
    },
    {
      "cell_type": "markdown",
      "source": [
        "## **Model:3 - Decision Tree**"
      ],
      "metadata": {
        "id": "xdD_A6LsIvoQ"
      }
    },
    {
      "cell_type": "code",
      "source": [
        "# Import required library\n",
        "from sklearn.tree import DecisionTreeClassifier"
      ],
      "metadata": {
        "id": "QsnCHoT4I0Iy"
      },
      "execution_count": null,
      "outputs": []
    },
    {
      "cell_type": "code",
      "source": [
        "# Run Decision Tree with default hyperparameters\n",
        "model_name = 'DECISION TREE'\n",
        "dt = DecisionTreeClassifier()\n",
        "dt.fit(X_train, y_train)\n",
        "y_pred_dt =dt.predict(X_test)"
      ],
      "metadata": {
        "id": "2f79Qt0aI6Xo"
      },
      "execution_count": null,
      "outputs": []
    },
    {
      "cell_type": "code",
      "source": [
        "# Hyperparameter tuning for best result\n",
        "param_dt = {\n",
        "    'criterion': ['gini', 'entropy'],\n",
        "    'max_depth' : [5, 10, 15, 20, 25, 30],\n",
        "    'min_samples_leaf':[1,5,10,15, 20, 25],\n",
        "    \n",
        "}\n",
        "\n",
        "grid_dt = GridSearchCV(estimator=dt, \n",
        "                       param_grid=param_dt,\n",
        "                       verbose=1,\n",
        "                       scoring='f1_weighted',\n",
        "                       n_jobs=-1,\n",
        "                       cv=5)\n",
        "grid_dt.fit(X_train, y_train)\n",
        "print(grid_dt.best_params_)"
      ],
      "metadata": {
        "id": "eAUR9wauI68r"
      },
      "execution_count": null,
      "outputs": []
    },
    {
      "cell_type": "code",
      "source": [
        "# Creating model with best hyperparameter\n",
        "dt_tuned = DecisionTreeClassifier(criterion='gini', \n",
        "                                      max_depth=25, \n",
        "                                      min_samples_leaf=15, \n",
        "                                      )\n",
        "dt_tuned.fit(X_train, y_train)\n",
        "y_pred_dt_tuned = dt_tuned.predict(X_test)"
      ],
      "metadata": {
        "id": "CFeM6OH0I-sR"
      },
      "execution_count": null,
      "outputs": []
    },
    {
      "cell_type": "code",
      "source": [
        "# Calculate F1 Score of tuned model using weighted average method\n",
        "f1_dt = f1_score(y_test, y_pred_dt_tuned, average=\"weighted\")\n",
        "f1_dt"
      ],
      "metadata": {
        "id": "Rpnd81vEJCHN"
      },
      "execution_count": null,
      "outputs": []
    },
    {
      "cell_type": "code",
      "source": [
        "# Evaluate the tuned Decision Tree classifier\n",
        "model_eval(y_test, y_pred_dt_tuned, model_name)"
      ],
      "metadata": {
        "id": "3mFt12S9JFUO"
      },
      "execution_count": null,
      "outputs": []
    },
    {
      "cell_type": "code",
      "source": [
        "# Update the summary table\n",
        "f1_summary.loc[len(f1_summary.index)] = ['Decision Tree', round(f1_dt, 2)]\n",
        "f1_summary"
      ],
      "metadata": {
        "id": "Rsm-y8VvJLQ9"
      },
      "execution_count": null,
      "outputs": []
    },
    {
      "cell_type": "markdown",
      "source": [
        "### **As per the F1 score of all the 3 models, Logistic Regression performs best with F1 score : 0.94**"
      ],
      "metadata": {
        "id": "CjPchgaGJOB3"
      }
    },
    {
      "cell_type": "code",
      "source": [
        "# Save Logistic Regression model as pickle file in device\n",
        "pickle.dump(lr_tuned, open(\"logreg_model.pkl\", \"wb\"))"
      ],
      "metadata": {
        "id": "zNhmp0nCJQoN"
      },
      "execution_count": null,
      "outputs": []
    },
    {
      "cell_type": "code",
      "source": [
        "# Function to predict a topic for custom text\n",
        "\n",
        "def topic_predicter(text):\n",
        "    \n",
        "    target_names = [\"Bank Account services\", \"Credit card or prepaid card\", \"Others\", \"Theft/Dispute Reporting\", \"Mortgage/Loan\"]\n",
        "\n",
        "    load_vec = CountVectorizer(vocabulary=pickle.load(open(\"count_vector.pkl\", \"rb\")))\n",
        "    load_tfidf = pickle.load(open(\"tfidf.pkl\",\"rb\"))\n",
        "    load_model = pickle.load(open(\"logreg_model.pkl\",\"rb\"))\n",
        "\n",
        "    X_new_count = load_vec.transform(text)\n",
        "    X_new_tfidf = load_tfidf.transform(X_new_count)\n",
        "    prediction = load_model.predict(X_new_tfidf)\n",
        "\n",
        "    return target_names[prediction[0]]"
      ],
      "metadata": {
        "id": "dvBwHBduJTBI"
      },
      "execution_count": null,
      "outputs": []
    },
    {
      "cell_type": "code",
      "source": [
        "# Create a dataframe of some sample customer complaints\n",
        "df_custom = pd.DataFrame({'complaints': [\"I can not get from chase who services my mortgage, who owns it and who has original loan docs\", \n",
        "                                  \"The bill amount of my credit card was debited twice. Please look into the matter and resolve at the earliest.\",\n",
        "                                  \"I want to open a salary account at your downtown branch. Please provide me the procedure.\",\n",
        "                                  \"unwanted service activated and money deducted automatically \",\n",
        "                                  \"How can I know my CIBIL score?\",\n",
        "                                  \"Where are the bank branches in the city of Patna?\"]})\n",
        "df_custom"
      ],
      "metadata": {
        "id": "_F9nOu0BJWs4"
      },
      "execution_count": null,
      "outputs": []
    },
    {
      "cell_type": "code",
      "source": [
        "# Create a new column of predicted topics of each complaint, predicted using the tuned Logistic Regression model\n",
        "df_custom['predicted topic'] = df_custom['complaints'].apply(lambda x: topic_predicter([x]))\n",
        "df_custom"
      ],
      "metadata": {
        "id": "bYgvIDwjJaKf"
      },
      "execution_count": null,
      "outputs": []
    },
    {
      "cell_type": "markdown",
      "source": [
        "# ***We conclude that the Logistic Regression model is predicting well on custom data***"
      ],
      "metadata": {
        "id": "4rMiOdsqJghv"
      }
    }
  ]
}